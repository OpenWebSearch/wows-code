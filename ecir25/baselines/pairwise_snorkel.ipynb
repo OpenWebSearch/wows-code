{
  "nbformat": 4,
  "nbformat_minor": 0,
  "metadata": {
    "colab": {
      "provenance": []
    },
    "kernelspec": {
      "name": "python3",
      "display_name": "Python 3"
    },
    "language_info": {
      "name": "python"
    }
  },
  "cells": [
    {
      "cell_type": "markdown",
      "source": [
        "Step 1: install dependencies\n",
        "\n",
        "> Add blockquote\n",
        "\n"
      ],
      "metadata": {
        "id": "nrNuNdOkWxU2"
      }
    },
    {
      "cell_type": "code",
      "execution_count": 1,
      "metadata": {
        "colab": {
          "base_uri": "https://localhost:8080/"
        },
        "id": "jqYpJ_Gqn0v3",
        "outputId": "af2950db-9969-4371-cefc-1a908de14af2"
      },
      "outputs": [
        {
          "output_type": "stream",
          "name": "stdout",
          "text": [
            "Collecting tira\n",
            "  Using cached tira-0.0.157-py3-none-any.whl.metadata (4.8 kB)\n",
            "Requirement already satisfied: snorkel in /usr/local/lib/python3.11/dist-packages (0.10.0)\n",
            "Collecting wows-eval\n",
            "  Using cached wows_eval-0.0.6-py3-none-any.whl.metadata (1.3 kB)\n",
            "Requirement already satisfied: textdistance in /usr/local/lib/python3.11/dist-packages (4.6.3)\n",
            "Requirement already satisfied: rank-bm25 in /usr/local/lib/python3.11/dist-packages (0.2.2)\n",
            "Requirement already satisfied: requests==2.*,>=2.26 in /usr/local/lib/python3.11/dist-packages (from tira) (2.32.3)\n",
            "Requirement already satisfied: docker==7.*,>=7.1.0 in /usr/local/lib/python3.11/dist-packages (from tira) (7.1.0)\n",
            "Requirement already satisfied: numpy==1.* in /usr/local/lib/python3.11/dist-packages (from tira) (1.26.4)\n",
            "Requirement already satisfied: pandas in /usr/local/lib/python3.11/dist-packages (from tira) (2.2.2)\n",
            "Requirement already satisfied: packaging in /usr/local/lib/python3.11/dist-packages (from tira) (24.2)\n",
            "Requirement already satisfied: tqdm in /usr/local/lib/python3.11/dist-packages (from tira) (4.67.1)\n",
            "Requirement already satisfied: gitpython in /usr/local/lib/python3.11/dist-packages (from tira) (3.1.44)\n",
            "Requirement already satisfied: urllib3>=1.26.0 in /usr/local/lib/python3.11/dist-packages (from docker==7.*,>=7.1.0->tira) (2.3.0)\n",
            "Requirement already satisfied: charset-normalizer<4,>=2 in /usr/local/lib/python3.11/dist-packages (from requests==2.*,>=2.26->tira) (3.4.1)\n",
            "Requirement already satisfied: idna<4,>=2.5 in /usr/local/lib/python3.11/dist-packages (from requests==2.*,>=2.26->tira) (3.10)\n",
            "Requirement already satisfied: certifi>=2017.4.17 in /usr/local/lib/python3.11/dist-packages (from requests==2.*,>=2.26->tira) (2025.1.31)\n",
            "Requirement already satisfied: munkres>=1.0.6 in /usr/local/lib/python3.11/dist-packages (from snorkel) (1.1.4)\n",
            "Requirement already satisfied: scipy>=1.2.0 in /usr/local/lib/python3.11/dist-packages (from snorkel) (1.14.1)\n",
            "Requirement already satisfied: scikit-learn>=0.20.2 in /usr/local/lib/python3.11/dist-packages (from snorkel) (1.6.1)\n",
            "Requirement already satisfied: torch>=1.2.0 in /usr/local/lib/python3.11/dist-packages (from snorkel) (2.6.0+cu124)\n",
            "Requirement already satisfied: tensorboard>=2.13.0 in /usr/local/lib/python3.11/dist-packages (from snorkel) (2.18.0)\n",
            "Requirement already satisfied: protobuf>=3.19.6 in /usr/local/lib/python3.11/dist-packages (from snorkel) (5.29.4)\n",
            "Requirement already satisfied: networkx>=2.2 in /usr/local/lib/python3.11/dist-packages (from snorkel) (3.4.2)\n",
            "Requirement already satisfied: tirex-tracker>=0.2.10 in /usr/local/lib/python3.11/dist-packages (from wows-eval) (0.2.12)\n",
            "Requirement already satisfied: pyyaml in /usr/local/lib/python3.11/dist-packages (from wows-eval) (6.0.2)\n",
            "Requirement already satisfied: trectools in /usr/local/lib/python3.11/dist-packages (from wows-eval) (0.0.50)\n",
            "Requirement already satisfied: click in /usr/local/lib/python3.11/dist-packages (from wows-eval) (8.1.8)\n",
            "Requirement already satisfied: python-dateutil>=2.8.2 in /usr/local/lib/python3.11/dist-packages (from pandas->tira) (2.8.2)\n",
            "Requirement already satisfied: pytz>=2020.1 in /usr/local/lib/python3.11/dist-packages (from pandas->tira) (2025.2)\n",
            "Requirement already satisfied: tzdata>=2022.7 in /usr/local/lib/python3.11/dist-packages (from pandas->tira) (2025.2)\n",
            "Requirement already satisfied: joblib>=1.2.0 in /usr/local/lib/python3.11/dist-packages (from scikit-learn>=0.20.2->snorkel) (1.4.2)\n",
            "Requirement already satisfied: threadpoolctl>=3.1.0 in /usr/local/lib/python3.11/dist-packages (from scikit-learn>=0.20.2->snorkel) (3.6.0)\n",
            "Requirement already satisfied: absl-py>=0.4 in /usr/local/lib/python3.11/dist-packages (from tensorboard>=2.13.0->snorkel) (1.4.0)\n",
            "Requirement already satisfied: grpcio>=1.48.2 in /usr/local/lib/python3.11/dist-packages (from tensorboard>=2.13.0->snorkel) (1.71.0)\n",
            "Requirement already satisfied: markdown>=2.6.8 in /usr/local/lib/python3.11/dist-packages (from tensorboard>=2.13.0->snorkel) (3.7)\n",
            "Requirement already satisfied: setuptools>=41.0.0 in /usr/local/lib/python3.11/dist-packages (from tensorboard>=2.13.0->snorkel) (75.2.0)\n",
            "Requirement already satisfied: six>1.9 in /usr/local/lib/python3.11/dist-packages (from tensorboard>=2.13.0->snorkel) (1.17.0)\n",
            "Requirement already satisfied: tensorboard-data-server<0.8.0,>=0.7.0 in /usr/local/lib/python3.11/dist-packages (from tensorboard>=2.13.0->snorkel) (0.7.2)\n",
            "Requirement already satisfied: werkzeug>=1.0.1 in /usr/local/lib/python3.11/dist-packages (from tensorboard>=2.13.0->snorkel) (3.1.3)\n",
            "Requirement already satisfied: typing-extensions~=4.0 in /usr/local/lib/python3.11/dist-packages (from tirex-tracker>=0.2.10->wows-eval) (4.13.0)\n",
            "Requirement already satisfied: importlib-metadata~=8.0 in /usr/local/lib/python3.11/dist-packages (from tirex-tracker>=0.2.10->wows-eval) (8.6.1)\n",
            "Requirement already satisfied: importlib-resources~=6.0 in /usr/local/lib/python3.11/dist-packages (from tirex-tracker>=0.2.10->wows-eval) (6.5.2)\n",
            "Requirement already satisfied: ipython in /usr/local/lib/python3.11/dist-packages (from tirex-tracker>=0.2.10->wows-eval) (7.34.0)\n",
            "Requirement already satisfied: ruamel.yaml~=0.18.0 in /usr/local/lib/python3.11/dist-packages (from tirex-tracker>=0.2.10->wows-eval) (0.18.10)\n",
            "Requirement already satisfied: gitdb<5,>=4.0.1 in /usr/local/lib/python3.11/dist-packages (from gitpython->tira) (4.0.12)\n",
            "Requirement already satisfied: filelock in /usr/local/lib/python3.11/dist-packages (from torch>=1.2.0->snorkel) (3.18.0)\n",
            "Requirement already satisfied: jinja2 in /usr/local/lib/python3.11/dist-packages (from torch>=1.2.0->snorkel) (3.1.6)\n",
            "Requirement already satisfied: fsspec in /usr/local/lib/python3.11/dist-packages (from torch>=1.2.0->snorkel) (2025.3.2)\n",
            "Requirement already satisfied: nvidia-cuda-nvrtc-cu12==12.4.127 in /usr/local/lib/python3.11/dist-packages (from torch>=1.2.0->snorkel) (12.4.127)\n",
            "Requirement already satisfied: nvidia-cuda-runtime-cu12==12.4.127 in /usr/local/lib/python3.11/dist-packages (from torch>=1.2.0->snorkel) (12.4.127)\n",
            "Requirement already satisfied: nvidia-cuda-cupti-cu12==12.4.127 in /usr/local/lib/python3.11/dist-packages (from torch>=1.2.0->snorkel) (12.4.127)\n",
            "Requirement already satisfied: nvidia-cudnn-cu12==9.1.0.70 in /usr/local/lib/python3.11/dist-packages (from torch>=1.2.0->snorkel) (9.1.0.70)\n",
            "Requirement already satisfied: nvidia-cublas-cu12==12.4.5.8 in /usr/local/lib/python3.11/dist-packages (from torch>=1.2.0->snorkel) (12.4.5.8)\n",
            "Requirement already satisfied: nvidia-cufft-cu12==11.2.1.3 in /usr/local/lib/python3.11/dist-packages (from torch>=1.2.0->snorkel) (11.2.1.3)\n",
            "Requirement already satisfied: nvidia-curand-cu12==10.3.5.147 in /usr/local/lib/python3.11/dist-packages (from torch>=1.2.0->snorkel) (10.3.5.147)\n",
            "Requirement already satisfied: nvidia-cusolver-cu12==11.6.1.9 in /usr/local/lib/python3.11/dist-packages (from torch>=1.2.0->snorkel) (11.6.1.9)\n",
            "Requirement already satisfied: nvidia-cusparse-cu12==12.3.1.170 in /usr/local/lib/python3.11/dist-packages (from torch>=1.2.0->snorkel) (12.3.1.170)\n",
            "Requirement already satisfied: nvidia-cusparselt-cu12==0.6.2 in /usr/local/lib/python3.11/dist-packages (from torch>=1.2.0->snorkel) (0.6.2)\n",
            "Requirement already satisfied: nvidia-nccl-cu12==2.21.5 in /usr/local/lib/python3.11/dist-packages (from torch>=1.2.0->snorkel) (2.21.5)\n",
            "Requirement already satisfied: nvidia-nvtx-cu12==12.4.127 in /usr/local/lib/python3.11/dist-packages (from torch>=1.2.0->snorkel) (12.4.127)\n",
            "Requirement already satisfied: nvidia-nvjitlink-cu12==12.4.127 in /usr/local/lib/python3.11/dist-packages (from torch>=1.2.0->snorkel) (12.4.127)\n",
            "Requirement already satisfied: triton==3.2.0 in /usr/local/lib/python3.11/dist-packages (from torch>=1.2.0->snorkel) (3.2.0)\n",
            "Requirement already satisfied: sympy==1.13.1 in /usr/local/lib/python3.11/dist-packages (from torch>=1.2.0->snorkel) (1.13.1)\n",
            "Requirement already satisfied: mpmath<1.4,>=1.1.0 in /usr/local/lib/python3.11/dist-packages (from sympy==1.13.1->torch>=1.2.0->snorkel) (1.3.0)\n",
            "Requirement already satisfied: sarge>=0.1.1 in /usr/local/lib/python3.11/dist-packages (from trectools->wows-eval) (0.1.7.post1)\n",
            "Requirement already satisfied: lxml>=3.6.0 in /usr/local/lib/python3.11/dist-packages (from trectools->wows-eval) (5.3.1)\n",
            "Requirement already satisfied: bs4>=0.0.0.1 in /usr/local/lib/python3.11/dist-packages (from trectools->wows-eval) (0.0.2)\n",
            "Requirement already satisfied: matplotlib>=1.5 in /usr/local/lib/python3.11/dist-packages (from trectools->wows-eval) (3.10.0)\n",
            "Requirement already satisfied: beautifulsoup4 in /usr/local/lib/python3.11/dist-packages (from bs4>=0.0.0.1->trectools->wows-eval) (4.13.3)\n",
            "Requirement already satisfied: smmap<6,>=3.0.1 in /usr/local/lib/python3.11/dist-packages (from gitdb<5,>=4.0.1->gitpython->tira) (5.0.2)\n",
            "Requirement already satisfied: zipp>=3.20 in /usr/local/lib/python3.11/dist-packages (from importlib-metadata~=8.0->tirex-tracker>=0.2.10->wows-eval) (3.21.0)\n",
            "Requirement already satisfied: contourpy>=1.0.1 in /usr/local/lib/python3.11/dist-packages (from matplotlib>=1.5->trectools->wows-eval) (1.3.1)\n",
            "Requirement already satisfied: cycler>=0.10 in /usr/local/lib/python3.11/dist-packages (from matplotlib>=1.5->trectools->wows-eval) (0.12.1)\n",
            "Requirement already satisfied: fonttools>=4.22.0 in /usr/local/lib/python3.11/dist-packages (from matplotlib>=1.5->trectools->wows-eval) (4.56.0)\n",
            "Requirement already satisfied: kiwisolver>=1.3.1 in /usr/local/lib/python3.11/dist-packages (from matplotlib>=1.5->trectools->wows-eval) (1.4.8)\n",
            "Requirement already satisfied: pillow>=8 in /usr/local/lib/python3.11/dist-packages (from matplotlib>=1.5->trectools->wows-eval) (11.1.0)\n",
            "Requirement already satisfied: pyparsing>=2.3.1 in /usr/local/lib/python3.11/dist-packages (from matplotlib>=1.5->trectools->wows-eval) (3.2.3)\n",
            "Requirement already satisfied: ruamel.yaml.clib>=0.2.7 in /usr/local/lib/python3.11/dist-packages (from ruamel.yaml~=0.18.0->tirex-tracker>=0.2.10->wows-eval) (0.2.12)\n",
            "Requirement already satisfied: MarkupSafe>=2.1.1 in /usr/local/lib/python3.11/dist-packages (from werkzeug>=1.0.1->tensorboard>=2.13.0->snorkel) (3.0.2)\n",
            "Requirement already satisfied: jedi>=0.16 in /usr/local/lib/python3.11/dist-packages (from ipython->tirex-tracker>=0.2.10->wows-eval) (0.19.2)\n",
            "Requirement already satisfied: decorator in /usr/local/lib/python3.11/dist-packages (from ipython->tirex-tracker>=0.2.10->wows-eval) (4.4.2)\n",
            "Requirement already satisfied: pickleshare in /usr/local/lib/python3.11/dist-packages (from ipython->tirex-tracker>=0.2.10->wows-eval) (0.7.5)\n",
            "Requirement already satisfied: traitlets>=4.2 in /usr/local/lib/python3.11/dist-packages (from ipython->tirex-tracker>=0.2.10->wows-eval) (5.7.1)\n",
            "Requirement already satisfied: prompt-toolkit!=3.0.0,!=3.0.1,<3.1.0,>=2.0.0 in /usr/local/lib/python3.11/dist-packages (from ipython->tirex-tracker>=0.2.10->wows-eval) (3.0.50)\n",
            "Requirement already satisfied: pygments in /usr/local/lib/python3.11/dist-packages (from ipython->tirex-tracker>=0.2.10->wows-eval) (2.18.0)\n",
            "Requirement already satisfied: backcall in /usr/local/lib/python3.11/dist-packages (from ipython->tirex-tracker>=0.2.10->wows-eval) (0.2.0)\n",
            "Requirement already satisfied: matplotlib-inline in /usr/local/lib/python3.11/dist-packages (from ipython->tirex-tracker>=0.2.10->wows-eval) (0.1.7)\n",
            "Requirement already satisfied: pexpect>4.3 in /usr/local/lib/python3.11/dist-packages (from ipython->tirex-tracker>=0.2.10->wows-eval) (4.9.0)\n",
            "Requirement already satisfied: parso<0.9.0,>=0.8.4 in /usr/local/lib/python3.11/dist-packages (from jedi>=0.16->ipython->tirex-tracker>=0.2.10->wows-eval) (0.8.4)\n",
            "Requirement already satisfied: ptyprocess>=0.5 in /usr/local/lib/python3.11/dist-packages (from pexpect>4.3->ipython->tirex-tracker>=0.2.10->wows-eval) (0.7.0)\n",
            "Requirement already satisfied: wcwidth in /usr/local/lib/python3.11/dist-packages (from prompt-toolkit!=3.0.0,!=3.0.1,<3.1.0,>=2.0.0->ipython->tirex-tracker>=0.2.10->wows-eval) (0.2.13)\n",
            "Requirement already satisfied: soupsieve>1.2 in /usr/local/lib/python3.11/dist-packages (from beautifulsoup4->bs4>=0.0.0.1->trectools->wows-eval) (2.6)\n",
            "Using cached tira-0.0.157-py3-none-any.whl (1.3 MB)\n",
            "Using cached wows_eval-0.0.6-py3-none-any.whl (3.9 kB)\n",
            "Installing collected packages: tira, wows-eval\n",
            "Successfully installed tira-0.0.157 wows-eval-0.0.6\n"
          ]
        }
      ],
      "source": [
        "!pip3 install tira snorkel wows-eval textdistance rank-bm25"
      ]
    },
    {
      "cell_type": "code",
      "source": [
        "!pip3 uninstall -y tira wows-eval"
      ],
      "metadata": {
        "colab": {
          "base_uri": "https://localhost:8080/"
        },
        "id": "nF6rUuWHtImS",
        "outputId": "344e88b2-117c-4caa-b9ee-56bbac7b0c07"
      },
      "execution_count": 2,
      "outputs": [
        {
          "output_type": "stream",
          "name": "stdout",
          "text": [
            "Found existing installation: tira 0.0.157\n",
            "Uninstalling tira-0.0.157:\n",
            "  Successfully uninstalled tira-0.0.157\n",
            "Found existing installation: wows-eval 0.0.6\n",
            "Uninstalling wows-eval-0.0.6:\n",
            "  Successfully uninstalled wows-eval-0.0.6\n"
          ]
        }
      ]
    },
    {
      "cell_type": "code",
      "source": [
        "!pip3 install wows-eval>=0.0.6"
      ],
      "metadata": {
        "id": "qfh3GolMtcj3"
      },
      "execution_count": 3,
      "outputs": []
    },
    {
      "cell_type": "code",
      "source": [
        "!pip3 install python-terrier==0.10.0"
      ],
      "metadata": {
        "colab": {
          "base_uri": "https://localhost:8080/"
        },
        "id": "6Fo04IIKtxVA",
        "outputId": "758a5ff8-a271-4bb7-95d3-740532680c01"
      },
      "execution_count": 4,
      "outputs": [
        {
          "output_type": "stream",
          "name": "stdout",
          "text": [
            "Requirement already satisfied: python-terrier==0.10.0 in /usr/local/lib/python3.11/dist-packages (0.10.0)\n",
            "Requirement already satisfied: numpy in /usr/local/lib/python3.11/dist-packages (from python-terrier==0.10.0) (1.26.4)\n",
            "Requirement already satisfied: pandas in /usr/local/lib/python3.11/dist-packages (from python-terrier==0.10.0) (2.2.2)\n",
            "Requirement already satisfied: wget in /usr/local/lib/python3.11/dist-packages (from python-terrier==0.10.0) (3.2)\n",
            "Requirement already satisfied: tqdm in /usr/local/lib/python3.11/dist-packages (from python-terrier==0.10.0) (4.67.1)\n",
            "Requirement already satisfied: pyjnius>=1.4.2 in /usr/local/lib/python3.11/dist-packages (from python-terrier==0.10.0) (1.6.1)\n",
            "Requirement already satisfied: matchpy in /usr/local/lib/python3.11/dist-packages (from python-terrier==0.10.0) (0.5.5)\n",
            "Requirement already satisfied: scikit-learn in /usr/local/lib/python3.11/dist-packages (from python-terrier==0.10.0) (1.6.1)\n",
            "Requirement already satisfied: deprecated in /usr/local/lib/python3.11/dist-packages (from python-terrier==0.10.0) (1.2.18)\n",
            "Requirement already satisfied: chest in /usr/local/lib/python3.11/dist-packages (from python-terrier==0.10.0) (0.2.3)\n",
            "Requirement already satisfied: scipy in /usr/local/lib/python3.11/dist-packages (from python-terrier==0.10.0) (1.14.1)\n",
            "Requirement already satisfied: requests in /usr/local/lib/python3.11/dist-packages (from python-terrier==0.10.0) (2.32.3)\n",
            "Requirement already satisfied: joblib in /usr/local/lib/python3.11/dist-packages (from python-terrier==0.10.0) (1.4.2)\n",
            "Requirement already satisfied: nptyping==1.4.4 in /usr/local/lib/python3.11/dist-packages (from python-terrier==0.10.0) (1.4.4)\n",
            "Requirement already satisfied: more-itertools in /usr/local/lib/python3.11/dist-packages (from python-terrier==0.10.0) (10.6.0)\n",
            "Requirement already satisfied: ir-datasets>=0.3.2 in /usr/local/lib/python3.11/dist-packages (from python-terrier==0.10.0) (0.5.10)\n",
            "Requirement already satisfied: jinja2 in /usr/local/lib/python3.11/dist-packages (from python-terrier==0.10.0) (3.1.6)\n",
            "Requirement already satisfied: statsmodels in /usr/local/lib/python3.11/dist-packages (from python-terrier==0.10.0) (0.14.4)\n",
            "Requirement already satisfied: ir-measures>=0.3.1 in /usr/local/lib/python3.11/dist-packages (from python-terrier==0.10.0) (0.3.7)\n",
            "Requirement already satisfied: dill in /usr/local/lib/python3.11/dist-packages (from python-terrier==0.10.0) (0.3.9)\n",
            "Requirement already satisfied: pytrec-eval-terrier>=0.5.3 in /usr/local/lib/python3.11/dist-packages (from python-terrier==0.10.0) (0.5.7)\n",
            "Requirement already satisfied: typish>=1.7.0 in /usr/local/lib/python3.11/dist-packages (from nptyping==1.4.4->python-terrier==0.10.0) (1.9.3)\n",
            "Requirement already satisfied: beautifulsoup4>=4.4.1 in /usr/local/lib/python3.11/dist-packages (from ir-datasets>=0.3.2->python-terrier==0.10.0) (4.13.3)\n",
            "Requirement already satisfied: inscriptis>=2.2.0 in /usr/local/lib/python3.11/dist-packages (from ir-datasets>=0.3.2->python-terrier==0.10.0) (2.6.0)\n",
            "Requirement already satisfied: lxml>=4.5.2 in /usr/local/lib/python3.11/dist-packages (from ir-datasets>=0.3.2->python-terrier==0.10.0) (5.3.1)\n",
            "Requirement already satisfied: pyyaml>=5.3.1 in /usr/local/lib/python3.11/dist-packages (from ir-datasets>=0.3.2->python-terrier==0.10.0) (6.0.2)\n",
            "Requirement already satisfied: trec-car-tools>=2.5.4 in /usr/local/lib/python3.11/dist-packages (from ir-datasets>=0.3.2->python-terrier==0.10.0) (2.6)\n",
            "Requirement already satisfied: lz4>=3.1.10 in /usr/local/lib/python3.11/dist-packages (from ir-datasets>=0.3.2->python-terrier==0.10.0) (4.4.4)\n",
            "Requirement already satisfied: warc3-wet>=0.2.3 in /usr/local/lib/python3.11/dist-packages (from ir-datasets>=0.3.2->python-terrier==0.10.0) (0.2.5)\n",
            "Requirement already satisfied: warc3-wet-clueweb09>=0.2.5 in /usr/local/lib/python3.11/dist-packages (from ir-datasets>=0.3.2->python-terrier==0.10.0) (0.2.5)\n",
            "Requirement already satisfied: zlib-state>=0.1.3 in /usr/local/lib/python3.11/dist-packages (from ir-datasets>=0.3.2->python-terrier==0.10.0) (0.1.9)\n",
            "Requirement already satisfied: ijson>=3.1.3 in /usr/local/lib/python3.11/dist-packages (from ir-datasets>=0.3.2->python-terrier==0.10.0) (3.3.0)\n",
            "Requirement already satisfied: unlzw3>=0.2.1 in /usr/local/lib/python3.11/dist-packages (from ir-datasets>=0.3.2->python-terrier==0.10.0) (0.2.3)\n",
            "Requirement already satisfied: pyarrow>=16.1.0 in /usr/local/lib/python3.11/dist-packages (from ir-datasets>=0.3.2->python-terrier==0.10.0) (18.1.0)\n",
            "Requirement already satisfied: charset-normalizer<4,>=2 in /usr/local/lib/python3.11/dist-packages (from requests->python-terrier==0.10.0) (3.4.1)\n",
            "Requirement already satisfied: idna<4,>=2.5 in /usr/local/lib/python3.11/dist-packages (from requests->python-terrier==0.10.0) (3.10)\n",
            "Requirement already satisfied: urllib3<3,>=1.21.1 in /usr/local/lib/python3.11/dist-packages (from requests->python-terrier==0.10.0) (2.3.0)\n",
            "Requirement already satisfied: certifi>=2017.4.17 in /usr/local/lib/python3.11/dist-packages (from requests->python-terrier==0.10.0) (2025.1.31)\n",
            "Requirement already satisfied: heapdict in /usr/local/lib/python3.11/dist-packages (from chest->python-terrier==0.10.0) (1.0.1)\n",
            "Requirement already satisfied: wrapt<2,>=1.10 in /usr/local/lib/python3.11/dist-packages (from deprecated->python-terrier==0.10.0) (1.17.2)\n",
            "Requirement already satisfied: MarkupSafe>=2.0 in /usr/local/lib/python3.11/dist-packages (from jinja2->python-terrier==0.10.0) (3.0.2)\n",
            "Requirement already satisfied: multiset<3.0,>=2.0 in /usr/local/lib/python3.11/dist-packages (from matchpy->python-terrier==0.10.0) (2.1.1)\n",
            "Requirement already satisfied: python-dateutil>=2.8.2 in /usr/local/lib/python3.11/dist-packages (from pandas->python-terrier==0.10.0) (2.8.2)\n",
            "Requirement already satisfied: pytz>=2020.1 in /usr/local/lib/python3.11/dist-packages (from pandas->python-terrier==0.10.0) (2025.2)\n",
            "Requirement already satisfied: tzdata>=2022.7 in /usr/local/lib/python3.11/dist-packages (from pandas->python-terrier==0.10.0) (2025.2)\n",
            "Requirement already satisfied: threadpoolctl>=3.1.0 in /usr/local/lib/python3.11/dist-packages (from scikit-learn->python-terrier==0.10.0) (3.6.0)\n",
            "Requirement already satisfied: patsy>=0.5.6 in /usr/local/lib/python3.11/dist-packages (from statsmodels->python-terrier==0.10.0) (1.0.1)\n",
            "Requirement already satisfied: packaging>=21.3 in /usr/local/lib/python3.11/dist-packages (from statsmodels->python-terrier==0.10.0) (24.2)\n",
            "Requirement already satisfied: soupsieve>1.2 in /usr/local/lib/python3.11/dist-packages (from beautifulsoup4>=4.4.1->ir-datasets>=0.3.2->python-terrier==0.10.0) (2.6)\n",
            "Requirement already satisfied: typing-extensions>=4.0.0 in /usr/local/lib/python3.11/dist-packages (from beautifulsoup4>=4.4.1->ir-datasets>=0.3.2->python-terrier==0.10.0) (4.13.0)\n",
            "Requirement already satisfied: six>=1.5 in /usr/local/lib/python3.11/dist-packages (from python-dateutil>=2.8.2->pandas->python-terrier==0.10.0) (1.17.0)\n",
            "Requirement already satisfied: cbor>=1.0.0 in /usr/local/lib/python3.11/dist-packages (from trec-car-tools>=2.5.4->ir-datasets>=0.3.2->python-terrier==0.10.0) (1.0.0)\n"
          ]
        }
      ]
    },
    {
      "cell_type": "code",
      "source": [
        "!pip3 uninstall numpy -y\n",
        "!pip3 install numpy --upgrade --force-reinstall"
      ],
      "metadata": {
        "colab": {
          "base_uri": "https://localhost:8080/"
        },
        "id": "9vVpwA4Xt2ni",
        "outputId": "704adba1-c74e-4819-eafd-666630f9e5fd"
      },
      "execution_count": 12,
      "outputs": [
        {
          "output_type": "stream",
          "name": "stdout",
          "text": [
            "Found existing installation: numpy 1.26.4\n",
            "Uninstalling numpy-1.26.4:\n",
            "  Successfully uninstalled numpy-1.26.4\n",
            "Collecting numpy\n",
            "  Using cached numpy-2.2.4-cp311-cp311-manylinux_2_17_x86_64.manylinux2014_x86_64.whl.metadata (62 kB)\n",
            "Using cached numpy-2.2.4-cp311-cp311-manylinux_2_17_x86_64.manylinux2014_x86_64.whl (16.4 MB)\n",
            "Installing collected packages: numpy\n",
            "\u001b[31mERROR: pip's dependency resolver does not currently take into account all the packages that are installed. This behaviour is the source of the following dependency conflicts.\n",
            "tira 0.0.157 requires numpy==1.*, but you have numpy 2.2.4 which is incompatible.\n",
            "tensorflow 2.18.0 requires numpy<2.1.0,>=1.26.0, but you have numpy 2.2.4 which is incompatible.\n",
            "numba 0.60.0 requires numpy<2.1,>=1.22, but you have numpy 2.2.4 which is incompatible.\u001b[0m\u001b[31m\n",
            "\u001b[0mSuccessfully installed numpy-2.2.4\n"
          ]
        }
      ]
    },
    {
      "cell_type": "code",
      "source": [
        "!pip3 install numpy==1.26.4 --force-reinstall\n",
        "import os\n",
        "os.kill(os.getpid(), 9)"
      ],
      "metadata": {
        "colab": {
          "base_uri": "https://localhost:8080/"
        },
        "id": "vzk4NnBduZHU",
        "outputId": "8edabf54-9ef7-404d-cd9f-093f1032d069"
      },
      "execution_count": null,
      "outputs": [
        {
          "output_type": "stream",
          "name": "stdout",
          "text": [
            "Collecting numpy==1.26.4\n",
            "  Using cached numpy-1.26.4-cp311-cp311-manylinux_2_17_x86_64.manylinux2014_x86_64.whl.metadata (61 kB)\n",
            "Using cached numpy-1.26.4-cp311-cp311-manylinux_2_17_x86_64.manylinux2014_x86_64.whl (18.3 MB)\n",
            "Installing collected packages: numpy\n",
            "  Attempting uninstall: numpy\n",
            "    Found existing installation: numpy 2.2.4\n",
            "    Uninstalling numpy-2.2.4:\n",
            "      Successfully uninstalled numpy-2.2.4\n",
            "Successfully installed numpy-1.26.4\n"
          ]
        }
      ]
    },
    {
      "cell_type": "code",
      "source": [
        "import pyterrier as pt\n",
        "from tqdm import tqdm\n",
        "if not pt.started():\n",
        "    pt.init()\n",
        "\n",
        "from tira.rest_api_client import Client\n",
        "from wows_eval import evaluate as wows_evaluate\n",
        "import pandas as pd\n",
        "from jnius import autoclass\n",
        "import numpy as np\n",
        "\n",
        "# For measuring consumed resources (e.g., GPU, CPU, RAM, etc.)\n",
        "from tirex_tracker import tracking, ExportFormat\n",
        "\n",
        "pd.set_option('display.max_colwidth', None)\n",
        "\n",
        "# Dataset IDs visible at https://archive.tira.io/datasets?query=wows-eval\n",
        "DATASET_ID = 'wows-eval/pairwise-20250309-test'\n",
        "\n",
        "#, 'wows-eval/pairwise-smoke-test-20250210-training'\n",
        "tira = Client()\n",
        "input_data = tira.pd.inputs(DATASET_ID)"
      ],
      "metadata": {
        "id": "KrRf64t2n6ke",
        "colab": {
          "base_uri": "https://localhost:8080/"
        },
        "outputId": "791a7ee1-3267-4515-cb06-b911b47b2b72"
      },
      "execution_count": 1,
      "outputs": [
        {
          "output_type": "stream",
          "name": "stderr",
          "text": [
            "PyTerrier 0.10.0 has loaded Terrier 5.11 (built by craig.macdonald on 2025-01-13 21:29) and terrier-helper 0.0.8\n",
            "\n"
          ]
        }
      ]
    },
    {
      "cell_type": "code",
      "source": [
        "!pip3 install rapidfuzz"
      ],
      "metadata": {
        "colab": {
          "base_uri": "https://localhost:8080/"
        },
        "id": "Xsbs5EDi7t0y",
        "outputId": "1f177a70-b55d-4a8d-fa2a-9ff25dce3af4"
      },
      "execution_count": 2,
      "outputs": [
        {
          "output_type": "stream",
          "name": "stdout",
          "text": [
            "Requirement already satisfied: rapidfuzz in /usr/local/lib/python3.11/dist-packages (3.13.0)\n"
          ]
        }
      ]
    },
    {
      "cell_type": "markdown",
      "source": [
        "Step 2: load all the libraries"
      ],
      "metadata": {
        "id": "CB_34eKz68Pn"
      }
    },
    {
      "cell_type": "code",
      "source": [
        "from snorkel.labeling import labeling_function, PandasLFApplier\n",
        "from snorkel.labeling.model.label_model import LabelModel\n",
        "from rank_bm25 import BM25Okapi\n",
        "from sklearn.feature_extraction.text import TfidfVectorizer\n",
        "from sentence_transformers import SentenceTransformer\n",
        "from sklearn.metrics.pairwise import cosine_similarity\n",
        "from wows_eval import evaluate as wows_evaluate\n",
        "from rapidfuzz import fuzz\n",
        "import numpy as np\n",
        "import textdistance\n",
        "import pandas as pd\n",
        "vectorizer = TfidfVectorizer()\n",
        "import re"
      ],
      "metadata": {
        "id": "5D-oLP_54FtB"
      },
      "execution_count": 3,
      "outputs": []
    },
    {
      "cell_type": "code",
      "source": [
        "import nltk\n",
        "from nltk.corpus import stopwords, wordnet\n",
        "from nltk.stem import WordNetLemmatizer\n",
        "# Download stopwords if not already present\n",
        "nltk.download(\"stopwords\")\n",
        "stop_words = set(stopwords.words(\"english\"))\n",
        "nltk.download(\"wordnet\")\n",
        "lemmatizer = WordNetLemmatizer()"
      ],
      "metadata": {
        "id": "qBVEpFOn4LNN",
        "colab": {
          "base_uri": "https://localhost:8080/"
        },
        "outputId": "23d98486-7f44-49a5-ade5-944e4ad9d5c6"
      },
      "execution_count": 4,
      "outputs": [
        {
          "output_type": "stream",
          "name": "stderr",
          "text": [
            "[nltk_data] Downloading package stopwords to /root/nltk_data...\n",
            "[nltk_data]   Package stopwords is already up-to-date!\n",
            "[nltk_data] Downloading package wordnet to /root/nltk_data...\n",
            "[nltk_data]   Package wordnet is already up-to-date!\n"
          ]
        }
      ]
    },
    {
      "cell_type": "markdown",
      "source": [
        "Step 3: define global variables"
      ],
      "metadata": {
        "id": "NpyWVji-7C1f"
      }
    },
    {
      "cell_type": "code",
      "source": [
        "# Global Variables\n",
        "min_bm25 = None\n",
        "max_bm25 = None\n",
        "bm25 = None\n"
      ],
      "metadata": {
        "id": "w7M09OVo4CQb"
      },
      "execution_count": 5,
      "outputs": []
    },
    {
      "cell_type": "code",
      "source": [
        "# Global Min/Max Values (These should be computed dynamically)\n",
        "GLOBAL_MIN = -1\n",
        "GLOBAL_MAX = 1\n"
      ],
      "metadata": {
        "id": "guLY8AnOcG6X"
      },
      "execution_count": 6,
      "outputs": []
    },
    {
      "cell_type": "markdown",
      "source": [
        "Step 4: define helping functions"
      ],
      "metadata": {
        "id": "2fbjNSaCQgHw"
      }
    },
    {
      "cell_type": "code",
      "source": [
        "\n",
        "def tokenize(text):\n",
        "    \"\"\"Tokenizes text into lowercase words without punctuation.\"\"\"\n",
        "    return re.findall(r'\\w+', text.lower())\n",
        "\n",
        "def tokenize_and_lemmatize(text):\n",
        "    \"\"\"Tokenizes text into lowercase words without punctuation and lemmatizes words.\"\"\"\n",
        "    tokens = re.findall(r'\\w+', text.lower())  # Tokenization\n",
        "    return {lemmatizer.lemmatize(word) for word in tokens} - stop_words\n",
        "\n",
        "def get_ngrams(text, n=2):\n",
        "    \"\"\"Generate n-grams from text\"\"\"\n",
        "    tokens = list(tokenize_and_lemmatize(text))\n",
        "    return set(zip(*[tokens[i:] for i in range(n)])) if len(tokens) >= n else set()"
      ],
      "metadata": {
        "id": "yFpLW_LO4iop"
      },
      "execution_count": 7,
      "outputs": []
    },
    {
      "cell_type": "markdown",
      "source": [
        "Step 5: Create Snorkel labeling functions"
      ],
      "metadata": {
        "id": "HaFNdAUBQvVH"
      }
    },
    {
      "cell_type": "code",
      "source": [
        "from snorkel.labeling import labeling_function\n",
        "from rank_bm25 import BM25Okapi\n",
        "\n",
        "@labeling_function()\n",
        "def bm25_prob_diff(input_data):\n",
        "    query = input_data[\"query\"]\n",
        "    relevant_doc = input_data[\"relevant\"]\n",
        "    unknown_doc = input_data[\"unknown\"]\n",
        "\n",
        "    # Tokenize query and documents\n",
        "    tokenized_query = tokenize(query)\n",
        "    tokenized_relevant = tokenize(relevant_doc)\n",
        "    tokenized_unknown = tokenize(unknown_doc)\n",
        "\n",
        "    # Compute BM25 scores separately for \"relevant\" and \"unknown\"\n",
        "    bm25_relevant_model = BM25Okapi([tokenized_relevant])  # BM25 model with relevant doc\n",
        "    bm25_unknown_model = BM25Okapi([tokenized_unknown])  # BM25 model with unknown doc\n",
        "\n",
        "    bm25_relevant = bm25_relevant_model.get_scores(tokenized_query)[0]  # Score for relevant\n",
        "    bm25_unknown = bm25_unknown_model.get_scores(tokenized_query)[0]  # Score for unknown\n",
        "\n",
        "    # Compute difference without normalization\n",
        "    diff = bm25_relevant - bm25_unknown\n",
        "    return diff  # Return raw difference\n",
        "\n",
        "\n",
        "\n",
        "@labeling_function()\n",
        "def jaccard_similarity_prob_diff(input_data):\n",
        "    query = input_data[\"query\"]\n",
        "    relevant_doc = input_data[\"relevant\"]\n",
        "    unknown_doc = input_data[\"unknown\"]\n",
        "\n",
        "    # Concatenate Query + Document\n",
        "    query_rel = f\"{query} {relevant_doc}\"\n",
        "    query_unk = f\"{query} {unknown_doc}\"\n",
        "\n",
        "    # Compute Jaccard Similarity\n",
        "    def jaccard_sim(text1, text2):\n",
        "        set1, set2 = set(text1.split()), set(text2.split())\n",
        "        intersection = len(set1 & set2)\n",
        "        union = len(set1 | set2)\n",
        "        return intersection / union if union != 0 else 0\n",
        "\n",
        "    jaccard_relevant = jaccard_sim(query, query_rel)\n",
        "    jaccard_unknown = jaccard_sim(query, query_unk)\n",
        "\n",
        "    diff = jaccard_relevant - jaccard_unknown\n",
        "    return diff  # Return raw difference\n",
        "\n",
        "\n",
        "@labeling_function()\n",
        "def word_level_levenshtein_prob_diff(input_data):\n",
        "    query = input_data[\"query\"]\n",
        "    relevant_doc = input_data[\"relevant\"]\n",
        "    unknown_doc = input_data[\"unknown\"]\n",
        "\n",
        "    # Compute Levenshtein similarity\n",
        "    lev_relevant = fuzz.ratio(query, relevant_doc) / 100\n",
        "    lev_unknown = fuzz.ratio(query, unknown_doc) / 100\n",
        "\n",
        "    # Compute difference\n",
        "    diff = lev_relevant - lev_unknown\n",
        "    return diff  # Return raw difference\n",
        "\n",
        "\n",
        "@labeling_function()\n",
        "def tfidf_cosine_similarity_prob_diff(input_data):\n",
        "    query = input_data[\"query\"]\n",
        "    relevant_doc = input_data[\"relevant\"]\n",
        "    unknown_doc = input_data[\"unknown\"]\n",
        "\n",
        "    # Concatenate Query + Document\n",
        "    query_rel = f\"{query} {relevant_doc}\"\n",
        "    query_unk = f\"{query} {unknown_doc}\"\n",
        "\n",
        "    # Compute TF-IDF Cosine Similarity\n",
        "    docs = [query, query_rel, query_unk]\n",
        "    tfidf_matrix = vectorizer.fit_transform(docs)\n",
        "\n",
        "    tfidf_relevant = cosine_similarity(tfidf_matrix[0], tfidf_matrix[1])[0][0]\n",
        "    tfidf_unknown = cosine_similarity(tfidf_matrix[0], tfidf_matrix[2])[0][0]\n",
        "\n",
        "    diff = tfidf_relevant - tfidf_unknown\n",
        "    return diff  # Return raw difference\n",
        "\n",
        "bert_model = SentenceTransformer('all-MiniLM-L6-v2')\n",
        "\n",
        "\n",
        "@labeling_function()\n",
        "def bert_cosine_similarity_prob_diff(input_data):\n",
        "    query = input_data[\"query\"]\n",
        "    relevant_doc = input_data[\"relevant\"]\n",
        "    unknown_doc = input_data[\"unknown\"]\n",
        "\n",
        "    # Concatenate Query + Document\n",
        "    query_rel = f\"{query} [SEP] {relevant_doc}\"\n",
        "    query_unk = f\"{query} [SEP] {unknown_doc}\"\n",
        "\n",
        "    # Compute BERT Embeddings\n",
        "    embeddings = bert_model.encode([query, query_rel, query_unk])\n",
        "\n",
        "    bert_relevant = np.dot(embeddings[0], embeddings[1]) / (np.linalg.norm(embeddings[0]) * np.linalg.norm(embeddings[1]))\n",
        "    bert_unknown = np.dot(embeddings[0], embeddings[2]) / (np.linalg.norm(embeddings[0]) * np.linalg.norm(embeddings[2]))\n",
        "\n",
        "    diff = bert_relevant - bert_unknown\n",
        "    return diff  # Return raw difference\n",
        "\n"
      ],
      "metadata": {
        "id": "VhMWSVtm4yDh",
        "colab": {
          "base_uri": "https://localhost:8080/"
        },
        "outputId": "4574c801-1059-4670-d966-c515815fae6a"
      },
      "execution_count": 8,
      "outputs": [
        {
          "output_type": "stream",
          "name": "stderr",
          "text": [
            "/usr/local/lib/python3.11/dist-packages/huggingface_hub/utils/_auth.py:94: UserWarning: \n",
            "The secret `HF_TOKEN` does not exist in your Colab secrets.\n",
            "To authenticate with the Hugging Face Hub, create a token in your settings tab (https://huggingface.co/settings/tokens), set it as secret in your Google Colab and restart your session.\n",
            "You will be able to reuse this secret in all of your notebooks.\n",
            "Please note that authentication is recommended but still optional to access public models or datasets.\n",
            "  warnings.warn(\n"
          ]
        }
      ]
    },
    {
      "cell_type": "markdown",
      "source": [
        "Step 6: train Snorkel"
      ],
      "metadata": {
        "id": "lZW9HxQpXCF3"
      }
    },
    {
      "cell_type": "code",
      "source": [
        "lfs = [bm25_prob_diff, word_level_levenshtein_prob_diff,tfidf_cosine_similarity_prob_diff, bert_cosine_similarity_prob_diff, jaccard_similarity_prob_diff]\n",
        "\n",
        "applier = PandasLFApplier(lfs=lfs)\n",
        "L_train = applier.apply(input_data)\n",
        "\n",
        "label_model = LabelModel(cardinality=4, verbose=True)\n",
        "label_model.fit(L_train, n_epochs=100, log_freq=10)\n",
        "\n",
        "train_prob = label_model.predict_proba(L_train)\n",
        "train_prob_relevant = train_prob[:, 1]\n",
        "\n",
        "input_data[\"probability_relevant\"] = train_prob_relevant\n"
      ],
      "metadata": {
        "id": "CDDrCtAO5C-S",
        "colab": {
          "base_uri": "https://localhost:8080/"
        },
        "outputId": "c54f7d82-68bd-4ea6-9c81-7abe67a3e5d0"
      },
      "execution_count": 9,
      "outputs": [
        {
          "output_type": "stream",
          "name": "stderr",
          "text": [
            "100%|██████████| 15080/15080 [1:43:34<00:00,  2.43it/s]\n",
            "100%|██████████| 100/100 [00:00<00:00, 423.04epoch/s]\n"
          ]
        }
      ]
    },
    {
      "cell_type": "code",
      "source": [
        "WMODEL = \"Snorkel\"\n",
        "\n",
        "!rm -Rf run\n",
        "\n",
        "\n",
        "with tracking(export_file_path='run/.metadata.yml', export_format=ExportFormat.IR_METADATA) as tracked:\n",
        "    queries = set(input_data['query'].unique())\n",
        "\n",
        "    def unknown_documents(query):\n",
        "        docs = set(input_data[input_data['query'] == query]['unknown'].unique())\n",
        "        return {f'{i[0]}-unkn': i[1] for i in zip(range(len(docs)), docs)}\n",
        "\n",
        "    results = {}\n",
        "\n",
        "    for query in tqdm(queries):\n",
        "        unk = unknown_documents(query)\n",
        "\n",
        "        # Build index\n",
        "        docs = [{'docno': k, 'text': v} for k, v in unk.items()]\n",
        "        indexer = pt.IterDictIndexer(\"/tmp/index\", overwrite=True, meta={'docno': 100, 'text': 20480})\n",
        "        index_ref = indexer.index(docs)\n",
        "        retriever = pt.BatchRetrieve(index_ref, wmodel=WMODEL)\n",
        "        rels = input_data[input_data['query'] == query][['unknown', 'probability_relevant']]\n",
        "        rel_dict = dict(zip(rels['unknown'], rels['probability_relevant']))\n",
        "\n",
        "        results[query] = rel_dict\n",
        "\n",
        "    predictions = []\n",
        "    for _, i in input_data.iterrows():\n",
        "        res = results[i['query']]\n",
        "        predictions.append({\n",
        "            'id': i['id'],\n",
        "            'probability_relevant': res.get(i['unknown'], -1)\n",
        "        })\n",
        "    predictions = pd.DataFrame(predictions)\n",
        "\n",
        "predictions"
      ],
      "metadata": {
        "colab": {
          "base_uri": "https://localhost:8080/",
          "height": 442
        },
        "id": "GLSUuWymwbOS",
        "outputId": "7825db38-4692-49c3-f8ec-f065cf1055bf"
      },
      "execution_count": 10,
      "outputs": [
        {
          "output_type": "stream",
          "name": "stderr",
          "text": [
            "100%|██████████| 13/13 [00:14<00:00,  1.11s/it]\n"
          ]
        },
        {
          "output_type": "execute_result",
          "data": {
            "text/plain": [
              "                                         id  probability_relevant\n",
              "0      ce293ca6-f54c-4499-a7c8-8546029af919              0.183267\n",
              "1      e035e319-db74-4d31-aa01-13bf60c595ae              0.183267\n",
              "2      2e58ffb0-3815-4033-a363-f0d9f3dab89f              0.183267\n",
              "3      43463fe4-63de-4ff3-ab26-43d002c18c72              0.183267\n",
              "4      141436c9-2d5a-4fdc-abd5-bb8de9952592              0.183267\n",
              "...                                     ...                   ...\n",
              "15075  ee0341bd-8296-4a2b-abf5-1ac7e55be097              0.242772\n",
              "15076  b0b2d6f8-c0c9-4b52-be87-ece222b219f8              0.242772\n",
              "15077  0f8bf575-6760-46b3-94ff-c228de6793b5              0.242772\n",
              "15078  13d3f42f-5057-4563-9c9a-23107f8ed4ab              0.242772\n",
              "15079  712a8947-f244-4d13-af2d-79eded3cd6bb              0.242772\n",
              "\n",
              "[15080 rows x 2 columns]"
            ],
            "text/html": [
              "\n",
              "  <div id=\"df-2ab808de-3e3f-4638-861e-54b721b05650\" class=\"colab-df-container\">\n",
              "    <div>\n",
              "<style scoped>\n",
              "    .dataframe tbody tr th:only-of-type {\n",
              "        vertical-align: middle;\n",
              "    }\n",
              "\n",
              "    .dataframe tbody tr th {\n",
              "        vertical-align: top;\n",
              "    }\n",
              "\n",
              "    .dataframe thead th {\n",
              "        text-align: right;\n",
              "    }\n",
              "</style>\n",
              "<table border=\"1\" class=\"dataframe\">\n",
              "  <thead>\n",
              "    <tr style=\"text-align: right;\">\n",
              "      <th></th>\n",
              "      <th>id</th>\n",
              "      <th>probability_relevant</th>\n",
              "    </tr>\n",
              "  </thead>\n",
              "  <tbody>\n",
              "    <tr>\n",
              "      <th>0</th>\n",
              "      <td>ce293ca6-f54c-4499-a7c8-8546029af919</td>\n",
              "      <td>0.183267</td>\n",
              "    </tr>\n",
              "    <tr>\n",
              "      <th>1</th>\n",
              "      <td>e035e319-db74-4d31-aa01-13bf60c595ae</td>\n",
              "      <td>0.183267</td>\n",
              "    </tr>\n",
              "    <tr>\n",
              "      <th>2</th>\n",
              "      <td>2e58ffb0-3815-4033-a363-f0d9f3dab89f</td>\n",
              "      <td>0.183267</td>\n",
              "    </tr>\n",
              "    <tr>\n",
              "      <th>3</th>\n",
              "      <td>43463fe4-63de-4ff3-ab26-43d002c18c72</td>\n",
              "      <td>0.183267</td>\n",
              "    </tr>\n",
              "    <tr>\n",
              "      <th>4</th>\n",
              "      <td>141436c9-2d5a-4fdc-abd5-bb8de9952592</td>\n",
              "      <td>0.183267</td>\n",
              "    </tr>\n",
              "    <tr>\n",
              "      <th>...</th>\n",
              "      <td>...</td>\n",
              "      <td>...</td>\n",
              "    </tr>\n",
              "    <tr>\n",
              "      <th>15075</th>\n",
              "      <td>ee0341bd-8296-4a2b-abf5-1ac7e55be097</td>\n",
              "      <td>0.242772</td>\n",
              "    </tr>\n",
              "    <tr>\n",
              "      <th>15076</th>\n",
              "      <td>b0b2d6f8-c0c9-4b52-be87-ece222b219f8</td>\n",
              "      <td>0.242772</td>\n",
              "    </tr>\n",
              "    <tr>\n",
              "      <th>15077</th>\n",
              "      <td>0f8bf575-6760-46b3-94ff-c228de6793b5</td>\n",
              "      <td>0.242772</td>\n",
              "    </tr>\n",
              "    <tr>\n",
              "      <th>15078</th>\n",
              "      <td>13d3f42f-5057-4563-9c9a-23107f8ed4ab</td>\n",
              "      <td>0.242772</td>\n",
              "    </tr>\n",
              "    <tr>\n",
              "      <th>15079</th>\n",
              "      <td>712a8947-f244-4d13-af2d-79eded3cd6bb</td>\n",
              "      <td>0.242772</td>\n",
              "    </tr>\n",
              "  </tbody>\n",
              "</table>\n",
              "<p>15080 rows × 2 columns</p>\n",
              "</div>\n",
              "    <div class=\"colab-df-buttons\">\n",
              "\n",
              "  <div class=\"colab-df-container\">\n",
              "    <button class=\"colab-df-convert\" onclick=\"convertToInteractive('df-2ab808de-3e3f-4638-861e-54b721b05650')\"\n",
              "            title=\"Convert this dataframe to an interactive table.\"\n",
              "            style=\"display:none;\">\n",
              "\n",
              "  <svg xmlns=\"http://www.w3.org/2000/svg\" height=\"24px\" viewBox=\"0 -960 960 960\">\n",
              "    <path d=\"M120-120v-720h720v720H120Zm60-500h600v-160H180v160Zm220 220h160v-160H400v160Zm0 220h160v-160H400v160ZM180-400h160v-160H180v160Zm440 0h160v-160H620v160ZM180-180h160v-160H180v160Zm440 0h160v-160H620v160Z\"/>\n",
              "  </svg>\n",
              "    </button>\n",
              "\n",
              "  <style>\n",
              "    .colab-df-container {\n",
              "      display:flex;\n",
              "      gap: 12px;\n",
              "    }\n",
              "\n",
              "    .colab-df-convert {\n",
              "      background-color: #E8F0FE;\n",
              "      border: none;\n",
              "      border-radius: 50%;\n",
              "      cursor: pointer;\n",
              "      display: none;\n",
              "      fill: #1967D2;\n",
              "      height: 32px;\n",
              "      padding: 0 0 0 0;\n",
              "      width: 32px;\n",
              "    }\n",
              "\n",
              "    .colab-df-convert:hover {\n",
              "      background-color: #E2EBFA;\n",
              "      box-shadow: 0px 1px 2px rgba(60, 64, 67, 0.3), 0px 1px 3px 1px rgba(60, 64, 67, 0.15);\n",
              "      fill: #174EA6;\n",
              "    }\n",
              "\n",
              "    .colab-df-buttons div {\n",
              "      margin-bottom: 4px;\n",
              "    }\n",
              "\n",
              "    [theme=dark] .colab-df-convert {\n",
              "      background-color: #3B4455;\n",
              "      fill: #D2E3FC;\n",
              "    }\n",
              "\n",
              "    [theme=dark] .colab-df-convert:hover {\n",
              "      background-color: #434B5C;\n",
              "      box-shadow: 0px 1px 3px 1px rgba(0, 0, 0, 0.15);\n",
              "      filter: drop-shadow(0px 1px 2px rgba(0, 0, 0, 0.3));\n",
              "      fill: #FFFFFF;\n",
              "    }\n",
              "  </style>\n",
              "\n",
              "    <script>\n",
              "      const buttonEl =\n",
              "        document.querySelector('#df-2ab808de-3e3f-4638-861e-54b721b05650 button.colab-df-convert');\n",
              "      buttonEl.style.display =\n",
              "        google.colab.kernel.accessAllowed ? 'block' : 'none';\n",
              "\n",
              "      async function convertToInteractive(key) {\n",
              "        const element = document.querySelector('#df-2ab808de-3e3f-4638-861e-54b721b05650');\n",
              "        const dataTable =\n",
              "          await google.colab.kernel.invokeFunction('convertToInteractive',\n",
              "                                                    [key], {});\n",
              "        if (!dataTable) return;\n",
              "\n",
              "        const docLinkHtml = 'Like what you see? Visit the ' +\n",
              "          '<a target=\"_blank\" href=https://colab.research.google.com/notebooks/data_table.ipynb>data table notebook</a>'\n",
              "          + ' to learn more about interactive tables.';\n",
              "        element.innerHTML = '';\n",
              "        dataTable['output_type'] = 'display_data';\n",
              "        await google.colab.output.renderOutput(dataTable, element);\n",
              "        const docLink = document.createElement('div');\n",
              "        docLink.innerHTML = docLinkHtml;\n",
              "        element.appendChild(docLink);\n",
              "      }\n",
              "    </script>\n",
              "  </div>\n",
              "\n",
              "\n",
              "<div id=\"df-96a47de9-9390-44d7-9bb1-a9e0c93e44a9\">\n",
              "  <button class=\"colab-df-quickchart\" onclick=\"quickchart('df-96a47de9-9390-44d7-9bb1-a9e0c93e44a9')\"\n",
              "            title=\"Suggest charts\"\n",
              "            style=\"display:none;\">\n",
              "\n",
              "<svg xmlns=\"http://www.w3.org/2000/svg\" height=\"24px\"viewBox=\"0 0 24 24\"\n",
              "     width=\"24px\">\n",
              "    <g>\n",
              "        <path d=\"M19 3H5c-1.1 0-2 .9-2 2v14c0 1.1.9 2 2 2h14c1.1 0 2-.9 2-2V5c0-1.1-.9-2-2-2zM9 17H7v-7h2v7zm4 0h-2V7h2v10zm4 0h-2v-4h2v4z\"/>\n",
              "    </g>\n",
              "</svg>\n",
              "  </button>\n",
              "\n",
              "<style>\n",
              "  .colab-df-quickchart {\n",
              "      --bg-color: #E8F0FE;\n",
              "      --fill-color: #1967D2;\n",
              "      --hover-bg-color: #E2EBFA;\n",
              "      --hover-fill-color: #174EA6;\n",
              "      --disabled-fill-color: #AAA;\n",
              "      --disabled-bg-color: #DDD;\n",
              "  }\n",
              "\n",
              "  [theme=dark] .colab-df-quickchart {\n",
              "      --bg-color: #3B4455;\n",
              "      --fill-color: #D2E3FC;\n",
              "      --hover-bg-color: #434B5C;\n",
              "      --hover-fill-color: #FFFFFF;\n",
              "      --disabled-bg-color: #3B4455;\n",
              "      --disabled-fill-color: #666;\n",
              "  }\n",
              "\n",
              "  .colab-df-quickchart {\n",
              "    background-color: var(--bg-color);\n",
              "    border: none;\n",
              "    border-radius: 50%;\n",
              "    cursor: pointer;\n",
              "    display: none;\n",
              "    fill: var(--fill-color);\n",
              "    height: 32px;\n",
              "    padding: 0;\n",
              "    width: 32px;\n",
              "  }\n",
              "\n",
              "  .colab-df-quickchart:hover {\n",
              "    background-color: var(--hover-bg-color);\n",
              "    box-shadow: 0 1px 2px rgba(60, 64, 67, 0.3), 0 1px 3px 1px rgba(60, 64, 67, 0.15);\n",
              "    fill: var(--button-hover-fill-color);\n",
              "  }\n",
              "\n",
              "  .colab-df-quickchart-complete:disabled,\n",
              "  .colab-df-quickchart-complete:disabled:hover {\n",
              "    background-color: var(--disabled-bg-color);\n",
              "    fill: var(--disabled-fill-color);\n",
              "    box-shadow: none;\n",
              "  }\n",
              "\n",
              "  .colab-df-spinner {\n",
              "    border: 2px solid var(--fill-color);\n",
              "    border-color: transparent;\n",
              "    border-bottom-color: var(--fill-color);\n",
              "    animation:\n",
              "      spin 1s steps(1) infinite;\n",
              "  }\n",
              "\n",
              "  @keyframes spin {\n",
              "    0% {\n",
              "      border-color: transparent;\n",
              "      border-bottom-color: var(--fill-color);\n",
              "      border-left-color: var(--fill-color);\n",
              "    }\n",
              "    20% {\n",
              "      border-color: transparent;\n",
              "      border-left-color: var(--fill-color);\n",
              "      border-top-color: var(--fill-color);\n",
              "    }\n",
              "    30% {\n",
              "      border-color: transparent;\n",
              "      border-left-color: var(--fill-color);\n",
              "      border-top-color: var(--fill-color);\n",
              "      border-right-color: var(--fill-color);\n",
              "    }\n",
              "    40% {\n",
              "      border-color: transparent;\n",
              "      border-right-color: var(--fill-color);\n",
              "      border-top-color: var(--fill-color);\n",
              "    }\n",
              "    60% {\n",
              "      border-color: transparent;\n",
              "      border-right-color: var(--fill-color);\n",
              "    }\n",
              "    80% {\n",
              "      border-color: transparent;\n",
              "      border-right-color: var(--fill-color);\n",
              "      border-bottom-color: var(--fill-color);\n",
              "    }\n",
              "    90% {\n",
              "      border-color: transparent;\n",
              "      border-bottom-color: var(--fill-color);\n",
              "    }\n",
              "  }\n",
              "</style>\n",
              "\n",
              "  <script>\n",
              "    async function quickchart(key) {\n",
              "      const quickchartButtonEl =\n",
              "        document.querySelector('#' + key + ' button');\n",
              "      quickchartButtonEl.disabled = true;  // To prevent multiple clicks.\n",
              "      quickchartButtonEl.classList.add('colab-df-spinner');\n",
              "      try {\n",
              "        const charts = await google.colab.kernel.invokeFunction(\n",
              "            'suggestCharts', [key], {});\n",
              "      } catch (error) {\n",
              "        console.error('Error during call to suggestCharts:', error);\n",
              "      }\n",
              "      quickchartButtonEl.classList.remove('colab-df-spinner');\n",
              "      quickchartButtonEl.classList.add('colab-df-quickchart-complete');\n",
              "    }\n",
              "    (() => {\n",
              "      let quickchartButtonEl =\n",
              "        document.querySelector('#df-96a47de9-9390-44d7-9bb1-a9e0c93e44a9 button');\n",
              "      quickchartButtonEl.style.display =\n",
              "        google.colab.kernel.accessAllowed ? 'block' : 'none';\n",
              "    })();\n",
              "  </script>\n",
              "</div>\n",
              "\n",
              "  <div id=\"id_47b06247-cd92-451d-8724-268112b97d13\">\n",
              "    <style>\n",
              "      .colab-df-generate {\n",
              "        background-color: #E8F0FE;\n",
              "        border: none;\n",
              "        border-radius: 50%;\n",
              "        cursor: pointer;\n",
              "        display: none;\n",
              "        fill: #1967D2;\n",
              "        height: 32px;\n",
              "        padding: 0 0 0 0;\n",
              "        width: 32px;\n",
              "      }\n",
              "\n",
              "      .colab-df-generate:hover {\n",
              "        background-color: #E2EBFA;\n",
              "        box-shadow: 0px 1px 2px rgba(60, 64, 67, 0.3), 0px 1px 3px 1px rgba(60, 64, 67, 0.15);\n",
              "        fill: #174EA6;\n",
              "      }\n",
              "\n",
              "      [theme=dark] .colab-df-generate {\n",
              "        background-color: #3B4455;\n",
              "        fill: #D2E3FC;\n",
              "      }\n",
              "\n",
              "      [theme=dark] .colab-df-generate:hover {\n",
              "        background-color: #434B5C;\n",
              "        box-shadow: 0px 1px 3px 1px rgba(0, 0, 0, 0.15);\n",
              "        filter: drop-shadow(0px 1px 2px rgba(0, 0, 0, 0.3));\n",
              "        fill: #FFFFFF;\n",
              "      }\n",
              "    </style>\n",
              "    <button class=\"colab-df-generate\" onclick=\"generateWithVariable('predictions')\"\n",
              "            title=\"Generate code using this dataframe.\"\n",
              "            style=\"display:none;\">\n",
              "\n",
              "  <svg xmlns=\"http://www.w3.org/2000/svg\" height=\"24px\"viewBox=\"0 0 24 24\"\n",
              "       width=\"24px\">\n",
              "    <path d=\"M7,19H8.4L18.45,9,17,7.55,7,17.6ZM5,21V16.75L18.45,3.32a2,2,0,0,1,2.83,0l1.4,1.43a1.91,1.91,0,0,1,.58,1.4,1.91,1.91,0,0,1-.58,1.4L9.25,21ZM18.45,9,17,7.55Zm-12,3A5.31,5.31,0,0,0,4.9,8.1,5.31,5.31,0,0,0,1,6.5,5.31,5.31,0,0,0,4.9,4.9,5.31,5.31,0,0,0,6.5,1,5.31,5.31,0,0,0,8.1,4.9,5.31,5.31,0,0,0,12,6.5,5.46,5.46,0,0,0,6.5,12Z\"/>\n",
              "  </svg>\n",
              "    </button>\n",
              "    <script>\n",
              "      (() => {\n",
              "      const buttonEl =\n",
              "        document.querySelector('#id_47b06247-cd92-451d-8724-268112b97d13 button.colab-df-generate');\n",
              "      buttonEl.style.display =\n",
              "        google.colab.kernel.accessAllowed ? 'block' : 'none';\n",
              "\n",
              "      buttonEl.onclick = () => {\n",
              "        google.colab.notebook.generateWithVariable('predictions');\n",
              "      }\n",
              "      })();\n",
              "    </script>\n",
              "  </div>\n",
              "\n",
              "    </div>\n",
              "  </div>\n"
            ],
            "application/vnd.google.colaboratory.intrinsic+json": {
              "type": "dataframe",
              "variable_name": "predictions",
              "summary": "{\n  \"name\": \"predictions\",\n  \"rows\": 15080,\n  \"fields\": [\n    {\n      \"column\": \"id\",\n      \"properties\": {\n        \"dtype\": \"string\",\n        \"num_unique_values\": 15080,\n        \"samples\": [\n          \"ea08b188-4dd6-423f-af58-6c06667281ce\",\n          \"06bd4d6a-f93f-4206-bff8-542ed41fe3ec\",\n          \"dcc4bff9-61a1-4164-b857-36eba78b2640\"\n        ],\n        \"semantic_type\": \"\",\n        \"description\": \"\"\n      }\n    },\n    {\n      \"column\": \"probability_relevant\",\n      \"properties\": {\n        \"dtype\": \"number\",\n        \"std\": 0.07852983500040059,\n        \"min\": 0.017131624622037586,\n        \"max\": 0.32927797176488854,\n        \"num_unique_values\": 38,\n        \"samples\": [\n          0.2427722421262846,\n          0.10210593925514304,\n          0.1293359526994007\n        ],\n        \"semantic_type\": \"\",\n        \"description\": \"\"\n      }\n    }\n  ]\n}"
            }
          },
          "metadata": {},
          "execution_count": 10
        }
      ]
    },
    {
      "cell_type": "code",
      "source": [
        "wows_evaluate(\n",
        "    predictions,\n",
        "    DATASET_ID,\n",
        "    tracking_results=tracked,\n",
        "    upload=True,\n",
        "    system_name=\"Snorkel\",https://www.tira.io/claim-submission/c1baecf2-84dd-46ae-bda8-995cf4dc3724\n",
        "    system_description=f'We use the PyTerrier retrieval model {WMODEL} to assign the probability that an unknown document is relevant. We rank all unknown documents that are to-be judged against the query. The probability that a document is relevant is then the min-max normalized rank of an unknown document in the ranking of all unknown documents to the query.'\n",
        ")"
      ],
      "metadata": {
        "colab": {
          "base_uri": "https://localhost:8080/"
        },
        "id": "sgLKVDdEwg3P",
        "outputId": "3da712d2-c272-4a6f-c984-0b89caa758e8"
      },
      "execution_count": 11,
      "outputs": [
        {
          "output_type": "stream",
          "name": "stdout",
          "text": [
            "Run uploaded to TIRA. Claim ownership via: https://www.tira.io/claim-submission/c1baecf2-84dd-46ae-bda8-995cf4dc3724\n",
            "No truth data is available yet. The evaluation is possible after the deadline when the truth data was published.\n"
          ]
        }
      ]
    },
    {
      "cell_type": "markdown",
      "source": [],
      "metadata": {
        "id": "P5jmP8SopXEd"
      }
    }
  ]
}