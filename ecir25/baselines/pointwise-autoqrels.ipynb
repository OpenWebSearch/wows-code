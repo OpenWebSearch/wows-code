{
 "cells": [
  {
   "cell_type": "code",
   "execution_count": null,
   "metadata": {},
   "outputs": [],
   "source": [
    "!pip3 install python-terrier 'git+https://github.com/tira-io/tira.git@pyterrier-artifacts#egg=tira&subdirectory=python-client' 'git+https://github.com/webis-de/auto-ir-metadata@dev' 'git+https://github.com/mam10eks/autoqrels.git' 'git+https://github.com/OpenWebSearch/wows-code.git#egg=wows-eval&subdirectory=ecir25/wows-eval' --break-system-packages"
   ]
  },
  {
   "cell_type": "code",
   "execution_count": null,
   "metadata": {},
   "outputs": [],
   "source": [
    "from tira.rest_api_client import Client\n",
    "import pandas as pd\n",
    "from wows_eval import evaluate\n",
    "from autoqrels.zeroshot import GradedMonoPrompt\n",
    "from auto_ir_metadata import Environment\n",
    "\n",
    "pd.set_option('display.max_colwidth', None)\n",
    "\n",
    "DATASET_ID = 'wows-eval/pointwise-smoke-test-20250128-training'\n",
    "\n",
    "tira = Client()"
   ]
  },
  {
   "cell_type": "code",
   "execution_count": 4,
   "metadata": {},
   "outputs": [
    {
     "data": {
      "text/html": [
       "<div>\n",
       "<style scoped>\n",
       "    .dataframe tbody tr th:only-of-type {\n",
       "        vertical-align: middle;\n",
       "    }\n",
       "\n",
       "    .dataframe tbody tr th {\n",
       "        vertical-align: top;\n",
       "    }\n",
       "\n",
       "    .dataframe thead th {\n",
       "        text-align: right;\n",
       "    }\n",
       "</style>\n",
       "<table border=\"1\" class=\"dataframe\">\n",
       "  <thead>\n",
       "    <tr style=\"text-align: right;\">\n",
       "      <th></th>\n",
       "      <th>id</th>\n",
       "      <th>query</th>\n",
       "      <th>unknown</th>\n",
       "    </tr>\n",
       "  </thead>\n",
       "  <tbody>\n",
       "    <tr>\n",
       "      <th>0</th>\n",
       "      <td>32d23068-7440-4891-9958-42325f98a604</td>\n",
       "      <td>who sings monk theme song</td>\n",
       "      <td>This is a reference to the minor controversy that brewed among Monk fans over the introduction of the new theme song It's A Jungle Out There written and performed by Randy Newman in the second season of Monk.</td>\n",
       "    </tr>\n",
       "    <tr>\n",
       "      <th>1</th>\n",
       "      <td>cde83146-ac3e-4bc5-a959-f2006ac7b8de</td>\n",
       "      <td>who sings monk theme song</td>\n",
       "      <td>Walker, Texas Ranger. Chuck Norris thought “Eyes of a Ranger” would be the perfect theme song for his new show Walker, Texas Ranger. He wanted his friend Randy Travis should sing it, but CBS had a different idea: The network suggested Norris sing the theme himself.</td>\n",
       "    </tr>\n",
       "    <tr>\n",
       "      <th>2</th>\n",
       "      <td>cb7b20d0-def6-46c4-ae44-a78f00b47735</td>\n",
       "      <td>who sings monk theme song</td>\n",
       "      <td>However, as Brave 's soundtrack reveals, the movie is also noteworthy for being one of the studio's most musical films, especially for one not featuring music by Pixar's go-to songwriter Randy Newman.</td>\n",
       "    </tr>\n",
       "  </tbody>\n",
       "</table>\n",
       "</div>"
      ],
      "text/plain": [
       "                                     id                      query  \\\n",
       "0  32d23068-7440-4891-9958-42325f98a604  who sings monk theme song   \n",
       "1  cde83146-ac3e-4bc5-a959-f2006ac7b8de  who sings monk theme song   \n",
       "2  cb7b20d0-def6-46c4-ae44-a78f00b47735  who sings monk theme song   \n",
       "\n",
       "                                                                                                                                                                                                                                                                     unknown  \n",
       "0                                                           This is a reference to the minor controversy that brewed among Monk fans over the introduction of the new theme song It's A Jungle Out There written and performed by Randy Newman in the second season of Monk.  \n",
       "1  Walker, Texas Ranger. Chuck Norris thought “Eyes of a Ranger” would be the perfect theme song for his new show Walker, Texas Ranger. He wanted his friend Randy Travis should sing it, but CBS had a different idea: The network suggested Norris sing the theme himself.  \n",
       "2                                                                   However, as Brave 's soundtrack reveals, the movie is also noteworthy for being one of the studio's most musical films, especially for one not featuring music by Pixar's go-to songwriter Randy Newman.  "
      ]
     },
     "execution_count": 4,
     "metadata": {},
     "output_type": "execute_result"
    }
   ],
   "source": [
    "input_data = tira.pd.inputs(DATASET_ID)\n",
    "input_data.head(3)"
   ]
  },
  {
   "cell_type": "code",
   "execution_count": 5,
   "metadata": {},
   "outputs": [],
   "source": [
    "BACKBONE_MODEL = \"flan-t5-small\"\n",
    "\n",
    "PROMPT = \"\"\"Instruction: Indicate if the passage answers the question.\n",
    "###\n",
    "Example 1:\n",
    "Question: At about what age do adults normally begin to lose bone mass?\n",
    "Passage: For most people, bone mass peaks during the third decade of life. By this age, men typically have accumulated more bone mass than women. After this point, the amount of bone in the skeleton typically begins to decline slowly as removal of old bone exceeds formation of new bone.\n",
    "Answer: Perfectly relevant\n",
    "###\n",
    "Example 2:\n",
    "Question: when and where did the battle of manassas take place\n",
    "Passage: Summary of the Battle of Bull Run. The conflict took place close to Manassas Junction, Virginia. Around 35,000 Union soldiers marched from Washing D.C. towards Bull Run (a small river) where a 20,000 troop Confederate force was stationed.\n",
    "Answer: Irrelevant\n",
    "###\n",
    "###\n",
    "Example 3:\n",
    "Question: what is lbm in body composition\n",
    "Passage: They also measured the participants body fat and clean body mass of muscle mass, obtained by subtracting the body fat weight from the total body weight.\n",
    "Answer: Relevant\n",
    "###\n",
    "Example 4:\n",
    "Question: {{ query_text }}\n",
    "Passage: {{ unk_doc_text }}\n",
    "Answer:\"\"\""
   ]
  },
  {
   "cell_type": "code",
   "execution_count": 6,
   "metadata": {},
   "outputs": [],
   "source": [
    "flan_t5_small_assessor = GradedMonoPrompt(\n",
    "    backbone=f'google/{BACKBONE_MODEL}',\n",
    "    prompt=PROMPT,\n",
    "    dataset=None\n",
    ")"
   ]
  },
  {
   "cell_type": "code",
   "execution_count": 7,
   "metadata": {},
   "outputs": [
    {
     "name": "stderr",
     "output_type": "stream",
     "text": [
      "  0%|          | 0/2 [00:00<?, ?it/s]Passing a tuple of `past_key_values` is deprecated and will be removed in Transformers v4.48.0. You should pass an instance of `EncoderDecoderCache` instead, e.g. `past_key_values=EncoderDecoderCache.from_legacy_cache(past_key_values)`.\n",
      "100%|██████████| 2/2 [00:10<00:00,  5.21s/it]\n"
     ]
    },
    {
     "data": {
      "text/html": [
       "<div>\n",
       "<style scoped>\n",
       "    .dataframe tbody tr th:only-of-type {\n",
       "        vertical-align: middle;\n",
       "    }\n",
       "\n",
       "    .dataframe tbody tr th {\n",
       "        vertical-align: top;\n",
       "    }\n",
       "\n",
       "    .dataframe thead th {\n",
       "        text-align: right;\n",
       "    }\n",
       "</style>\n",
       "<table border=\"1\" class=\"dataframe\">\n",
       "  <thead>\n",
       "    <tr style=\"text-align: right;\">\n",
       "      <th></th>\n",
       "      <th>id</th>\n",
       "      <th>query</th>\n",
       "      <th>unknown</th>\n",
       "      <th>probability_relevant</th>\n",
       "    </tr>\n",
       "  </thead>\n",
       "  <tbody>\n",
       "    <tr>\n",
       "      <th>0</th>\n",
       "      <td>32d23068-7440-4891-9958-42325f98a604</td>\n",
       "      <td>who sings monk theme song</td>\n",
       "      <td>This is a reference to the minor controversy that brewed among Monk fans over the introduction of the new theme song It's A Jungle Out There written and performed by Randy Newman in the second season of Monk.</td>\n",
       "      <td>0.263609</td>\n",
       "    </tr>\n",
       "    <tr>\n",
       "      <th>1</th>\n",
       "      <td>cde83146-ac3e-4bc5-a959-f2006ac7b8de</td>\n",
       "      <td>who sings monk theme song</td>\n",
       "      <td>Walker, Texas Ranger. Chuck Norris thought “Eyes of a Ranger” would be the perfect theme song for his new show Walker, Texas Ranger. He wanted his friend Randy Travis should sing it, but CBS had a different idea: The network suggested Norris sing the theme himself.</td>\n",
       "      <td>0.240609</td>\n",
       "    </tr>\n",
       "    <tr>\n",
       "      <th>2</th>\n",
       "      <td>cb7b20d0-def6-46c4-ae44-a78f00b47735</td>\n",
       "      <td>who sings monk theme song</td>\n",
       "      <td>However, as Brave 's soundtrack reveals, the movie is also noteworthy for being one of the studio's most musical films, especially for one not featuring music by Pixar's go-to songwriter Randy Newman.</td>\n",
       "      <td>0.280311</td>\n",
       "    </tr>\n",
       "  </tbody>\n",
       "</table>\n",
       "</div>"
      ],
      "text/plain": [
       "                                     id                      query  \\\n",
       "0  32d23068-7440-4891-9958-42325f98a604  who sings monk theme song   \n",
       "1  cde83146-ac3e-4bc5-a959-f2006ac7b8de  who sings monk theme song   \n",
       "2  cb7b20d0-def6-46c4-ae44-a78f00b47735  who sings monk theme song   \n",
       "\n",
       "                                                                                                                                                                                                                                                                     unknown  \\\n",
       "0                                                           This is a reference to the minor controversy that brewed among Monk fans over the introduction of the new theme song It's A Jungle Out There written and performed by Randy Newman in the second season of Monk.   \n",
       "1  Walker, Texas Ranger. Chuck Norris thought “Eyes of a Ranger” would be the perfect theme song for his new show Walker, Texas Ranger. He wanted his friend Randy Travis should sing it, but CBS had a different idea: The network suggested Norris sing the theme himself.   \n",
       "2                                                                   However, as Brave 's soundtrack reveals, the movie is also noteworthy for being one of the studio's most musical films, especially for one not featuring music by Pixar's go-to songwriter Randy Newman.   \n",
       "\n",
       "   probability_relevant  \n",
       "0              0.263609  \n",
       "1              0.240609  \n",
       "2              0.280311  "
      ]
     },
     "execution_count": 7,
     "metadata": {},
     "output_type": "execute_result"
    }
   ],
   "source": [
    "with Environment().measure() as tracked_experiment:\n",
    "    predictions = flan_t5_small_assessor.predict(input_data)\n",
    "\n",
    "predictions.head(3)"
   ]
  },
  {
   "cell_type": "code",
   "execution_count": 10,
   "metadata": {},
   "outputs": [
    {
     "name": "stdout",
     "output_type": "stream",
     "text": [
      "Run uploaded to TIRA. Claim ownership via: https://www.tira.io/claim-submission/01ea553b-08e4-4301-980e-8db24fbeb80a\n"
     ]
    },
    {
     "data": {
      "text/plain": [
       "{'tau_ap': 0.07944444444444437,\n",
       " 'kendall': 0.29523809523809524,\n",
       " 'spearman': 0.32500000000000007,\n",
       " 'pearson': 0.32499999999999996}"
      ]
     },
     "execution_count": 10,
     "metadata": {},
     "output_type": "execute_result"
    }
   ],
   "source": [
    "evaluate(\n",
    "    predictions,\n",
    "    DATASET_ID,\n",
    "    upload=True,\n",
    "    system_name=f'auto-qrels-pointwise-{BACKBONE_MODEL}',\n",
    "    system_description=\"We use autoqrels [1] with a custom in-context learning prompt for pointwise relevance judgments.\\n\\n[1] - https://github.com/seanmacavaney/autoqrels\",\n",
    "    environment=tracked_experiment\n",
    ")"
   ]
  }
 ],
 "metadata": {
  "kernelspec": {
   "display_name": "Python 3",
   "language": "python",
   "name": "python3"
  },
  "language_info": {
   "codemirror_mode": {
    "name": "ipython",
    "version": 3
   },
   "file_extension": ".py",
   "mimetype": "text/x-python",
   "name": "python",
   "nbconvert_exporter": "python",
   "pygments_lexer": "ipython3",
   "version": "3.12.3"
  }
 },
 "nbformat": 4,
 "nbformat_minor": 2
}
