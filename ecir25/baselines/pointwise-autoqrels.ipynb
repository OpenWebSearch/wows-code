{
 "cells": [
  {
   "cell_type": "markdown",
   "metadata": {},
   "source": [
    "## Step 1: Install Dependencies\n",
    "\n",
    "We will use [TIREx](https://www.tira.io/tirex/components), an integration of [ir-datasets](https://ir-datasets.com/), [TIRA](https://www.tira.io/), and [PyTerrier](https://github.com/terrier-org/pyterrier) for fast experimentation.\n",
    "\n"
   ]
  },
  {
   "cell_type": "code",
   "execution_count": null,
   "metadata": {},
   "outputs": [],
   "source": [
    "!pip3 install ir-datasets 'python-terrier==0.10.0' 'git+https://github.com/tira-io/tira.git@pyterrier-artifacts#egg=tira&subdirectory=python-client' 'git+https://github.com/webis-de/auto-ir-metadata@dev' 'git+https://github.com/mam10eks/autoqrels.git' 'git+https://github.com/OpenWebSearch/wows-code.git#egg=wows-eval&subdirectory=ecir25/wows-eval' --break-system-packages"
   ]
  },
  {
   "cell_type": "markdown",
   "metadata": {},
   "source": [
    "## Step 2: Import Libraries\n",
    "\n",
    "We create an API client to interact with the TIRA platform (e.g., to load datasets and submit runs).\n"
   ]
  },
  {
   "cell_type": "code",
   "execution_count": 59,
   "metadata": {},
   "outputs": [],
   "source": [
    "from tira.third_party_integrations import ensure_pyterrier_is_loaded\n",
    "from tira.rest_api_client import Client\n",
    "\n",
    "ensure_pyterrier_is_loaded()\n",
    "import pyterrier as pt\n",
    "tira = Client()"
   ]
  },
  {
   "cell_type": "markdown",
   "metadata": {},
   "source": [
    "\n",
    "## Step 2: Load the dataset\n",
    "\n",
    "We load a small teaching-oriented dataset by its ir_datasets ID from TIRA. The dataset is a subsample of MS MARCO.\n"
   ]
  },
  {
   "cell_type": "code",
   "execution_count": 4,
   "metadata": {},
   "outputs": [],
   "source": [
    "pt_dataset = pt.get_dataset('irds:ir-lab-wise-2024/subsampled-ms-marco-deep-learning-20241201-training')"
   ]
  },
  {
   "cell_type": "markdown",
   "metadata": {},
   "source": [
    "## Step 3: Build an index\n",
    "\n",
    "We will then create an index from the documents in the dataset we just loaded.\n"
   ]
  },
  {
   "cell_type": "code",
   "execution_count": null,
   "metadata": {},
   "outputs": [
    {
     "name": "stderr",
     "output_type": "stream",
     "text": [
      "ir-lab-wise-2024/subsampled-ms-marco-deep-learning-20241201-training documents:  38%|███▊      | 25706/68261 [00:03<00:04, 8580.47it/s]"
     ]
    },
    {
     "name": "stdout",
     "output_type": "stream",
     "text": [
      "09:44:51.646 [ForkJoinPool-2-worker-1] WARN org.terrier.structures.indexing.Indexer - Adding an empty document to the index (6114613) - further warnings are suppressed\n"
     ]
    },
    {
     "name": "stderr",
     "output_type": "stream",
     "text": [
      "ir-lab-wise-2024/subsampled-ms-marco-deep-learning-20241201-training documents: 100%|██████████| 68261/68261 [00:08<00:00, 7757.15it/s]\n"
     ]
    },
    {
     "name": "stdout",
     "output_type": "stream",
     "text": [
      "09:44:59.055 [ForkJoinPool-2-worker-1] WARN org.terrier.structures.indexing.Indexer - Indexed 1 empty documents\n"
     ]
    }
   ],
   "source": [
    "indexer = pt.IterDictIndexer(\n",
    "    # Store the index in the `index` directory.\n",
    "    \"../data/index\",\n",
    "    meta={'docno': 50, 'text': 4096},\n",
    "    # If an index already exists there, then overwrite it.\n",
    "    overwrite=True,\n",
    ")\n",
    "index = indexer.index(pt_dataset.get_corpus_iter())"
   ]
  },
  {
   "cell_type": "markdown",
   "metadata": {},
   "source": [
    "## Step 4: Look at Evaluation Data\n",
    "\n",
    "We reduce the topics to two information needs to make the evaluation a bit faster:\n",
    "\n",
    "- `who sings monk theme song`\n",
    "- `what is the most popular food in switzerland`"
   ]
  },
  {
   "cell_type": "code",
   "execution_count": 28,
   "metadata": {},
   "outputs": [
    {
     "data": {
      "text/html": [
       "<div>\n",
       "<style scoped>\n",
       "    .dataframe tbody tr th:only-of-type {\n",
       "        vertical-align: middle;\n",
       "    }\n",
       "\n",
       "    .dataframe tbody tr th {\n",
       "        vertical-align: top;\n",
       "    }\n",
       "\n",
       "    .dataframe thead th {\n",
       "        text-align: right;\n",
       "    }\n",
       "</style>\n",
       "<table border=\"1\" class=\"dataframe\">\n",
       "  <thead>\n",
       "    <tr style=\"text-align: right;\">\n",
       "      <th></th>\n",
       "      <th>qid</th>\n",
       "      <th>query</th>\n",
       "    </tr>\n",
       "  </thead>\n",
       "  <tbody>\n",
       "    <tr>\n",
       "      <th>3</th>\n",
       "      <td>1051399</td>\n",
       "      <td>who sings monk theme song</td>\n",
       "    </tr>\n",
       "    <tr>\n",
       "      <th>76</th>\n",
       "      <td>833860</td>\n",
       "      <td>what is the most popular food in switzerland</td>\n",
       "    </tr>\n",
       "  </tbody>\n",
       "</table>\n",
       "</div>"
      ],
      "text/plain": [
       "        qid                                         query\n",
       "3   1051399                     who sings monk theme song\n",
       "76   833860  what is the most popular food in switzerland"
      ]
     },
     "execution_count": 28,
     "metadata": {},
     "output_type": "execute_result"
    }
   ],
   "source": [
    "topics = pt_dataset.get_topics('title')\n",
    "topics = topics[topics['query'].isin(('who sings monk theme song', 'what is the most popular food in switzerland'))]\n",
    "\n",
    "topics"
   ]
  },
  {
   "cell_type": "code",
   "execution_count": 29,
   "metadata": {},
   "outputs": [
    {
     "data": {
      "text/html": [
       "<div>\n",
       "<style scoped>\n",
       "    .dataframe tbody tr th:only-of-type {\n",
       "        vertical-align: middle;\n",
       "    }\n",
       "\n",
       "    .dataframe tbody tr th {\n",
       "        vertical-align: top;\n",
       "    }\n",
       "\n",
       "    .dataframe thead th {\n",
       "        text-align: right;\n",
       "    }\n",
       "</style>\n",
       "<table border=\"1\" class=\"dataframe\">\n",
       "  <thead>\n",
       "    <tr style=\"text-align: right;\">\n",
       "      <th></th>\n",
       "      <th>qid</th>\n",
       "      <th>docno</th>\n",
       "      <th>label</th>\n",
       "      <th>iteration</th>\n",
       "    </tr>\n",
       "  </thead>\n",
       "  <tbody>\n",
       "    <tr>\n",
       "      <th>2790</th>\n",
       "      <td>833860</td>\n",
       "      <td>115142</td>\n",
       "      <td>1</td>\n",
       "      <td>0</td>\n",
       "    </tr>\n",
       "    <tr>\n",
       "      <th>2791</th>\n",
       "      <td>833860</td>\n",
       "      <td>1524401</td>\n",
       "      <td>0</td>\n",
       "      <td>0</td>\n",
       "    </tr>\n",
       "    <tr>\n",
       "      <th>2792</th>\n",
       "      <td>833860</td>\n",
       "      <td>1524402</td>\n",
       "      <td>0</td>\n",
       "      <td>0</td>\n",
       "    </tr>\n",
       "    <tr>\n",
       "      <th>2793</th>\n",
       "      <td>833860</td>\n",
       "      <td>1524403</td>\n",
       "      <td>0</td>\n",
       "      <td>0</td>\n",
       "    </tr>\n",
       "    <tr>\n",
       "      <th>2794</th>\n",
       "      <td>833860</td>\n",
       "      <td>1524406</td>\n",
       "      <td>0</td>\n",
       "      <td>0</td>\n",
       "    </tr>\n",
       "    <tr>\n",
       "      <th>...</th>\n",
       "      <td>...</td>\n",
       "      <td>...</td>\n",
       "      <td>...</td>\n",
       "      <td>...</td>\n",
       "    </tr>\n",
       "    <tr>\n",
       "      <th>10269</th>\n",
       "      <td>1051399</td>\n",
       "      <td>8815205</td>\n",
       "      <td>0</td>\n",
       "      <td>0</td>\n",
       "    </tr>\n",
       "    <tr>\n",
       "      <th>10270</th>\n",
       "      <td>1051399</td>\n",
       "      <td>8818330</td>\n",
       "      <td>0</td>\n",
       "      <td>0</td>\n",
       "    </tr>\n",
       "    <tr>\n",
       "      <th>10271</th>\n",
       "      <td>1051399</td>\n",
       "      <td>904304</td>\n",
       "      <td>1</td>\n",
       "      <td>0</td>\n",
       "    </tr>\n",
       "    <tr>\n",
       "      <th>10272</th>\n",
       "      <td>1051399</td>\n",
       "      <td>909463</td>\n",
       "      <td>0</td>\n",
       "      <td>0</td>\n",
       "    </tr>\n",
       "    <tr>\n",
       "      <th>10273</th>\n",
       "      <td>1051399</td>\n",
       "      <td>909464</td>\n",
       "      <td>0</td>\n",
       "      <td>0</td>\n",
       "    </tr>\n",
       "  </tbody>\n",
       "</table>\n",
       "<p>239 rows × 4 columns</p>\n",
       "</div>"
      ],
      "text/plain": [
       "           qid    docno  label iteration\n",
       "2790    833860   115142      1         0\n",
       "2791    833860  1524401      0         0\n",
       "2792    833860  1524402      0         0\n",
       "2793    833860  1524403      0         0\n",
       "2794    833860  1524406      0         0\n",
       "...        ...      ...    ...       ...\n",
       "10269  1051399  8815205      0         0\n",
       "10270  1051399  8818330      0         0\n",
       "10271  1051399   904304      1         0\n",
       "10272  1051399   909463      0         0\n",
       "10273  1051399   909464      0         0\n",
       "\n",
       "[239 rows x 4 columns]"
      ]
     },
     "execution_count": 29,
     "metadata": {},
     "output_type": "execute_result"
    }
   ],
   "source": [
    "qrels = pt_dataset.get_qrels()\n",
    "qrels = qrels[qrels['qid'].isin(('1051399', '833860'))]\n",
    "\n",
    "qrels"
   ]
  },
  {
   "cell_type": "markdown",
   "metadata": {},
   "source": [
    "## Step 5: Define the retrieval pipeline\n",
    "\n",
    "We will define a simple retrieval pipeline using just BM25 as a baseline. For details, refer to the PyTerrier [documentation](https://pyterrier.readthedocs.io/) or [tutorial](https://github.com/terrier-org/ecir2021tutorial)."
   ]
  },
  {
   "cell_type": "code",
   "execution_count": 128,
   "metadata": {},
   "outputs": [],
   "source": [
    "bm25 = pt.BatchRetrieve(index, wmodel=\"BM25\")\n",
    "\n",
    "query_expansion = pt.rewrite.RM3(index)\n"
   ]
  },
  {
   "cell_type": "markdown",
   "metadata": {},
   "source": [
    "## Step 6: Evaluate the Retrieval System"
   ]
  },
  {
   "cell_type": "code",
   "execution_count": 129,
   "metadata": {},
   "outputs": [
    {
     "data": {
      "text/html": [
       "<div>\n",
       "<style scoped>\n",
       "    .dataframe tbody tr th:only-of-type {\n",
       "        vertical-align: middle;\n",
       "    }\n",
       "\n",
       "    .dataframe tbody tr th {\n",
       "        vertical-align: top;\n",
       "    }\n",
       "\n",
       "    .dataframe thead th {\n",
       "        text-align: right;\n",
       "    }\n",
       "</style>\n",
       "<table border=\"1\" class=\"dataframe\">\n",
       "  <thead>\n",
       "    <tr style=\"text-align: right;\">\n",
       "      <th></th>\n",
       "      <th>name</th>\n",
       "      <th>P_10</th>\n",
       "      <th>recall_100</th>\n",
       "    </tr>\n",
       "  </thead>\n",
       "  <tbody>\n",
       "    <tr>\n",
       "      <th>0</th>\n",
       "      <td>BM25</td>\n",
       "      <td>0.35</td>\n",
       "      <td>0.254545</td>\n",
       "    </tr>\n",
       "  </tbody>\n",
       "</table>\n",
       "</div>"
      ],
      "text/plain": [
       "   name  P_10  recall_100\n",
       "0  BM25  0.35    0.254545"
      ]
     },
     "execution_count": 129,
     "metadata": {},
     "output_type": "execute_result"
    }
   ],
   "source": [
    "pt.Experiment(\n",
    "    [bm25],\n",
    "    names=['BM25'],\n",
    "    topics=topics,\n",
    "    qrels=qrels,\n",
    "    eval_metrics=['P_10', 'recall_100']\n",
    ")"
   ]
  },
  {
   "cell_type": "markdown",
   "metadata": {},
   "source": [
    "## Step 7: Improve the Retrieval System\n",
    "\n",
    "Lets use large language models to try to improve the effectiveness of our retrieval system.\n",
    "\n",
    "One of the fundamental tasks that large language models might help with is to assess [if a document is relevant to a given query](https://downloads.webis.de/publications/papers/faggioli_2023b.pdf).\n",
    "\n",
    "![Relevance Assessments with an LLM](relevance-assessments.png \"relevance-assessments.png\")"
   ]
  },
  {
   "cell_type": "code",
   "execution_count": 137,
   "metadata": {},
   "outputs": [],
   "source": [
    "from wows_eval import evaluate as wows_evaluate\n",
    "\n",
    "from autoqrels.zeroshot import GradedMonoPrompt\n",
    "from auto_ir_metadata import Environment\n",
    "import pandas as pd\n",
    "pd.set_option('display.max_colwidth', None)\n",
    "\n",
    "WOWS_DATASET_ID = 'wows-eval/pointwise-smoke-test-20250128-training'\n"
   ]
  },
  {
   "cell_type": "code",
   "execution_count": 46,
   "metadata": {},
   "outputs": [
    {
     "data": {
      "text/html": [
       "<div>\n",
       "<style scoped>\n",
       "    .dataframe tbody tr th:only-of-type {\n",
       "        vertical-align: middle;\n",
       "    }\n",
       "\n",
       "    .dataframe tbody tr th {\n",
       "        vertical-align: top;\n",
       "    }\n",
       "\n",
       "    .dataframe thead th {\n",
       "        text-align: right;\n",
       "    }\n",
       "</style>\n",
       "<table border=\"1\" class=\"dataframe\">\n",
       "  <thead>\n",
       "    <tr style=\"text-align: right;\">\n",
       "      <th></th>\n",
       "      <th>id</th>\n",
       "      <th>query</th>\n",
       "      <th>unknown</th>\n",
       "    </tr>\n",
       "  </thead>\n",
       "  <tbody>\n",
       "    <tr>\n",
       "      <th>0</th>\n",
       "      <td>32d23068-7440-4891-9958-42325f98a604</td>\n",
       "      <td>who sings monk theme song</td>\n",
       "      <td>This is a reference to the minor controversy that brewed among Monk fans over the introduction of the new theme song It's A Jungle Out There written and performed by Randy Newman in the second season of Monk.</td>\n",
       "    </tr>\n",
       "    <tr>\n",
       "      <th>1</th>\n",
       "      <td>cde83146-ac3e-4bc5-a959-f2006ac7b8de</td>\n",
       "      <td>who sings monk theme song</td>\n",
       "      <td>Walker, Texas Ranger. Chuck Norris thought “Eyes of a Ranger” would be the perfect theme song for his new show Walker, Texas Ranger. He wanted his friend Randy Travis should sing it, but CBS had a different idea: The network suggested Norris sing the theme himself.</td>\n",
       "    </tr>\n",
       "    <tr>\n",
       "      <th>2</th>\n",
       "      <td>cb7b20d0-def6-46c4-ae44-a78f00b47735</td>\n",
       "      <td>who sings monk theme song</td>\n",
       "      <td>However, as Brave 's soundtrack reveals, the movie is also noteworthy for being one of the studio's most musical films, especially for one not featuring music by Pixar's go-to songwriter Randy Newman.</td>\n",
       "    </tr>\n",
       "  </tbody>\n",
       "</table>\n",
       "</div>"
      ],
      "text/plain": [
       "                                     id                      query  \\\n",
       "0  32d23068-7440-4891-9958-42325f98a604  who sings monk theme song   \n",
       "1  cde83146-ac3e-4bc5-a959-f2006ac7b8de  who sings monk theme song   \n",
       "2  cb7b20d0-def6-46c4-ae44-a78f00b47735  who sings monk theme song   \n",
       "\n",
       "                                                                                                                                                                                                                                                                     unknown  \n",
       "0                                                           This is a reference to the minor controversy that brewed among Monk fans over the introduction of the new theme song It's A Jungle Out There written and performed by Randy Newman in the second season of Monk.  \n",
       "1  Walker, Texas Ranger. Chuck Norris thought “Eyes of a Ranger” would be the perfect theme song for his new show Walker, Texas Ranger. He wanted his friend Randy Travis should sing it, but CBS had a different idea: The network suggested Norris sing the theme himself.  \n",
       "2                                                                   However, as Brave 's soundtrack reveals, the movie is also noteworthy for being one of the studio's most musical films, especially for one not featuring music by Pixar's go-to songwriter Randy Newman.  "
      ]
     },
     "execution_count": 46,
     "metadata": {},
     "output_type": "execute_result"
    }
   ],
   "source": [
    "input_data = tira.pd.inputs(WOWS_DATASET_ID)\n",
    "input_data.head(3)"
   ]
  },
  {
   "cell_type": "markdown",
   "metadata": {},
   "source": [
    "## How Do we solve this task?\n",
    "\n",
    "<img src=\"prompt-engineering.png\" width=\"300\"/>\n",
    "\n",
    "\n",
    "### Step 1: Describe the task in the prompt:\n",
    "\n",
    "For instance:\n",
    "\n",
    "```\n",
    "Instruction: Indicate if the passage answers the question.\n",
    "```\n",
    "\n",
    "### Step 2: In Context Learning:\n",
    "\n",
    "Provide a few examples:\n",
    "\n",
    "```\n",
    "###\n",
    "Example 1:\n",
    "Question: At what age kids start to read?\n",
    "Passage: Most kids say 1–2 words by 15 months and 3 or more words by 18 months.\n",
    "Answer: Not Relevant\n",
    "```\n",
    "\n",
    "```\n",
    "###\n",
    "Example 2:\n",
    "Question: What are the 5 P's of drawing?\n",
    "Passage: The 5 P's of drawning are (1) Patience, (2) Positive feedback, (3) Perseverance, (4) Practicing, and (5) Passion.\n",
    "Answer: Perfectly Relevant\n",
    "```\n",
    "\n",
    "\n",
    "### Step 3: Teamwork :)\n",
    "\n",
    "Please share your task descriptions and in-context-learning examples in the chat. We will combine and test them to evaluate your prompts.\n",
    "\n",
    "<img src=\"teamwork.jpg\" width=\"300\"/>\n"
   ]
  },
  {
   "cell_type": "code",
   "execution_count": 47,
   "metadata": {},
   "outputs": [],
   "source": [
    "BACKBONE_MODEL = \"flan-t5-small\"\n",
    "\n",
    "PROMPT = \"\"\"Instruction: Indicate if the passage answers the question.\n",
    "###\n",
    "Example 1:\n",
    "Question: At about what age do adults normally begin to lose bone mass?\n",
    "Passage: For most people, bone mass peaks during the third decade of life. By this age, men typically have accumulated more bone mass than women. After this point, the amount of bone in the skeleton typically begins to decline slowly as removal of old bone exceeds formation of new bone.\n",
    "Answer: Perfectly relevant\n",
    "###\n",
    "Example 2:\n",
    "Question: when and where did the battle of manassas take place\n",
    "Passage: Summary of the Battle of Bull Run. The conflict took place close to Manassas Junction, Virginia. Around 35,000 Union soldiers marched from Washing D.C. towards Bull Run (a small river) where a 20,000 troop Confederate force was stationed.\n",
    "Answer: Irrelevant\n",
    "###\n",
    "###\n",
    "Example 3:\n",
    "Question: what is lbm in body composition\n",
    "Passage: They also measured the participants body fat and clean body mass of muscle mass, obtained by subtracting the body fat weight from the total body weight.\n",
    "Answer: Relevant\n",
    "###\n",
    "Example 4:\n",
    "Question: {{ query_text }}\n",
    "Passage: {{ unk_doc_text }}\n",
    "Answer:\"\"\""
   ]
  },
  {
   "cell_type": "code",
   "execution_count": 48,
   "metadata": {},
   "outputs": [],
   "source": [
    "flan_t5_small_assessor = GradedMonoPrompt(\n",
    "    backbone=f'google/{BACKBONE_MODEL}',\n",
    "    prompt=PROMPT,\n",
    "    dataset=None\n",
    ")"
   ]
  },
  {
   "cell_type": "code",
   "execution_count": 49,
   "metadata": {},
   "outputs": [
    {
     "name": "stderr",
     "output_type": "stream",
     "text": [
      "  0%|          | 0/2 [00:00<?, ?it/s]Passing a tuple of `past_key_values` is deprecated and will be removed in Transformers v4.48.0. You should pass an instance of `EncoderDecoderCache` instead, e.g. `past_key_values=EncoderDecoderCache.from_legacy_cache(past_key_values)`.\n",
      "100%|██████████| 2/2 [00:01<00:00,  1.06it/s]\n"
     ]
    },
    {
     "data": {
      "text/html": [
       "<div>\n",
       "<style scoped>\n",
       "    .dataframe tbody tr th:only-of-type {\n",
       "        vertical-align: middle;\n",
       "    }\n",
       "\n",
       "    .dataframe tbody tr th {\n",
       "        vertical-align: top;\n",
       "    }\n",
       "\n",
       "    .dataframe thead th {\n",
       "        text-align: right;\n",
       "    }\n",
       "</style>\n",
       "<table border=\"1\" class=\"dataframe\">\n",
       "  <thead>\n",
       "    <tr style=\"text-align: right;\">\n",
       "      <th></th>\n",
       "      <th>id</th>\n",
       "      <th>query</th>\n",
       "      <th>unknown</th>\n",
       "      <th>probability_relevant</th>\n",
       "    </tr>\n",
       "  </thead>\n",
       "  <tbody>\n",
       "    <tr>\n",
       "      <th>0</th>\n",
       "      <td>32d23068-7440-4891-9958-42325f98a604</td>\n",
       "      <td>who sings monk theme song</td>\n",
       "      <td>This is a reference to the minor controversy that brewed among Monk fans over the introduction of the new theme song It's A Jungle Out There written and performed by Randy Newman in the second season of Monk.</td>\n",
       "      <td>0.263609</td>\n",
       "    </tr>\n",
       "    <tr>\n",
       "      <th>1</th>\n",
       "      <td>cde83146-ac3e-4bc5-a959-f2006ac7b8de</td>\n",
       "      <td>who sings monk theme song</td>\n",
       "      <td>Walker, Texas Ranger. Chuck Norris thought “Eyes of a Ranger” would be the perfect theme song for his new show Walker, Texas Ranger. He wanted his friend Randy Travis should sing it, but CBS had a different idea: The network suggested Norris sing the theme himself.</td>\n",
       "      <td>0.240609</td>\n",
       "    </tr>\n",
       "    <tr>\n",
       "      <th>2</th>\n",
       "      <td>cb7b20d0-def6-46c4-ae44-a78f00b47735</td>\n",
       "      <td>who sings monk theme song</td>\n",
       "      <td>However, as Brave 's soundtrack reveals, the movie is also noteworthy for being one of the studio's most musical films, especially for one not featuring music by Pixar's go-to songwriter Randy Newman.</td>\n",
       "      <td>0.280311</td>\n",
       "    </tr>\n",
       "  </tbody>\n",
       "</table>\n",
       "</div>"
      ],
      "text/plain": [
       "                                     id                      query  \\\n",
       "0  32d23068-7440-4891-9958-42325f98a604  who sings monk theme song   \n",
       "1  cde83146-ac3e-4bc5-a959-f2006ac7b8de  who sings monk theme song   \n",
       "2  cb7b20d0-def6-46c4-ae44-a78f00b47735  who sings monk theme song   \n",
       "\n",
       "                                                                                                                                                                                                                                                                     unknown  \\\n",
       "0                                                           This is a reference to the minor controversy that brewed among Monk fans over the introduction of the new theme song It's A Jungle Out There written and performed by Randy Newman in the second season of Monk.   \n",
       "1  Walker, Texas Ranger. Chuck Norris thought “Eyes of a Ranger” would be the perfect theme song for his new show Walker, Texas Ranger. He wanted his friend Randy Travis should sing it, but CBS had a different idea: The network suggested Norris sing the theme himself.   \n",
       "2                                                                   However, as Brave 's soundtrack reveals, the movie is also noteworthy for being one of the studio's most musical films, especially for one not featuring music by Pixar's go-to songwriter Randy Newman.   \n",
       "\n",
       "   probability_relevant  \n",
       "0              0.263609  \n",
       "1              0.240609  \n",
       "2              0.280311  "
      ]
     },
     "execution_count": 49,
     "metadata": {},
     "output_type": "execute_result"
    }
   ],
   "source": [
    "with Environment().measure() as tracked_experiment:\n",
    "    predictions = flan_t5_small_assessor.predict(input_data)\n",
    "\n",
    "predictions.head(3)"
   ]
  },
  {
   "cell_type": "code",
   "execution_count": null,
   "metadata": {},
   "outputs": [
    {
     "name": "stdout",
     "output_type": "stream",
     "text": [
      "Run uploaded to TIRA. Claim ownership via: https://www.tira.io/claim-submission/a03c0610-e1fa-48fa-bb2e-1737742fb94a\n"
     ]
    },
    {
     "data": {
      "text/plain": [
       "{'tau_ap': 0.07944444444444437,\n",
       " 'kendall': 0.29523809523809524,\n",
       " 'spearman': 0.32500000000000007,\n",
       " 'pearson': 0.32499999999999996}"
      ]
     },
     "execution_count": 140,
     "metadata": {},
     "output_type": "execute_result"
    }
   ],
   "source": [
    "wows_evaluate(\n",
    "    predictions,\n",
    "    WOWS_DATASET_ID,\n",
    "    upload=True,\n",
    "    system_name=f'auto-qrels-pointwise-{BACKBONE_MODEL}',\n",
    "    system_description=\"We use autoqrels [1] with a custom in-context learning prompt for pointwise relevance judgments.\\n\\n[1] - https://github.com/seanmacavaney/autoqrels\",\n",
    "    environment=tracked_experiment\n",
    ")"
   ]
  },
  {
   "cell_type": "markdown",
   "metadata": {},
   "source": [
    "## Step 8: Build a Chain of Search Components\n",
    "\n",
    "\n",
    "Retrieval pipelines easily become complex.\n",
    "Here, we use the most simple operator `>>` to chain components."
   ]
  },
  {
   "cell_type": "code",
   "execution_count": 95,
   "metadata": {},
   "outputs": [],
   "source": [
    "def llm_predictions_to_ranking(predictions):\n",
    "    ids = {i['id']: i.to_dict() for _, i in tira.pd.truths(WOWS_DATASET_ID).iterrows()}\n",
    "    ret = []\n",
    "    for _, i in predictions.iterrows():\n",
    "        qid, docno = ids[i['id']]['query_id'], ids[i['id']]['unknown_doc_id']\n",
    "        ret += [{'qid': qid, 'docno': docno, 'score': i['probability_relevant']}]\n",
    "\n",
    "    return pt.Transformer.from_df(pd.DataFrame(ret))\n"
   ]
  },
  {
   "cell_type": "code",
   "execution_count": 130,
   "metadata": {},
   "outputs": [],
   "source": [
    "improved_pipeline = bm25 >> \\\n",
    "    llm_predictions_to_ranking(predictions) >> \\\n",
    "    query_expansion >> \\\n",
    "    bm25"
   ]
  },
  {
   "cell_type": "markdown",
   "metadata": {},
   "source": [
    "## Step 9: Understand what the Pipelines Does"
   ]
  },
  {
   "cell_type": "code",
   "execution_count": 131,
   "metadata": {},
   "outputs": [
    {
     "data": {
      "text/plain": [
       "'who sings monk theme song'"
      ]
     },
     "execution_count": 131,
     "metadata": {},
     "output_type": "execute_result"
    }
   ],
   "source": [
    "bm25(topics)['query'].iloc[0]"
   ]
  },
  {
   "cell_type": "code",
   "execution_count": 132,
   "metadata": {},
   "outputs": [
    {
     "data": {
      "text/plain": [
       "'applypipeline:off theme^0.197192997 4^0.014035087 real^0.077192985 show^0.014035087 song^0.197192997 sing^0.155087724 search^0.014035087 lyric^0.028070174 monk^0.120000005 who^0.155087724 time^0.028070174'"
      ]
     },
     "execution_count": 132,
     "metadata": {},
     "output_type": "execute_result"
    }
   ],
   "source": [
    "improved_pipeline(topics)['query'].iloc[0]"
   ]
  },
  {
   "cell_type": "markdown",
   "metadata": {},
   "source": [
    "## Step 10: Evaluate and Compare"
   ]
  },
  {
   "cell_type": "code",
   "execution_count": 133,
   "metadata": {},
   "outputs": [
    {
     "data": {
      "text/html": [
       "<div>\n",
       "<style scoped>\n",
       "    .dataframe tbody tr th:only-of-type {\n",
       "        vertical-align: middle;\n",
       "    }\n",
       "\n",
       "    .dataframe tbody tr th {\n",
       "        vertical-align: top;\n",
       "    }\n",
       "\n",
       "    .dataframe thead th {\n",
       "        text-align: right;\n",
       "    }\n",
       "</style>\n",
       "<table border=\"1\" class=\"dataframe\">\n",
       "  <thead>\n",
       "    <tr style=\"text-align: right;\">\n",
       "      <th></th>\n",
       "      <th>name</th>\n",
       "      <th>P_10</th>\n",
       "      <th>recall_100</th>\n",
       "    </tr>\n",
       "  </thead>\n",
       "  <tbody>\n",
       "    <tr>\n",
       "      <th>0</th>\n",
       "      <td>BM25</td>\n",
       "      <td>0.35</td>\n",
       "      <td>0.254545</td>\n",
       "    </tr>\n",
       "    <tr>\n",
       "      <th>1</th>\n",
       "      <td>Improved</td>\n",
       "      <td>0.45</td>\n",
       "      <td>0.268182</td>\n",
       "    </tr>\n",
       "  </tbody>\n",
       "</table>\n",
       "</div>"
      ],
      "text/plain": [
       "       name  P_10  recall_100\n",
       "0      BM25  0.35    0.254545\n",
       "1  Improved  0.45    0.268182"
      ]
     },
     "execution_count": 133,
     "metadata": {},
     "output_type": "execute_result"
    }
   ],
   "source": [
    "pt.Experiment(\n",
    "    [bm25, improved_pipeline],\n",
    "    names=['BM25', 'Improved'],\n",
    "    topics=topics,\n",
    "    qrels=qrels,\n",
    "    eval_metrics=['P_10', 'recall_100']\n",
    ")"
   ]
  }
 ],
 "metadata": {
  "kernelspec": {
   "display_name": "Python 3",
   "language": "python",
   "name": "python3"
  },
  "language_info": {
   "codemirror_mode": {
    "name": "ipython",
    "version": 3
   },
   "file_extension": ".py",
   "mimetype": "text/x-python",
   "name": "python",
   "nbconvert_exporter": "python",
   "pygments_lexer": "ipython3",
   "version": "3.12.3"
  }
 },
 "nbformat": 4,
 "nbformat_minor": 2
}
