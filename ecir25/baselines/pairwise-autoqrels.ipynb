{
 "cells": [
  {
   "cell_type": "markdown",
   "metadata": {},
   "source": [
    "## Step 1: Install Dependencies\n"
   ]
  },
  {
   "cell_type": "code",
   "execution_count": null,
   "metadata": {},
   "outputs": [],
   "source": [
    "!pip3 install ir-datasets 'python-terrier==0.10.0' 'git+https://github.com/tira-io/tira.git@pyterrier-artifacts#egg=tira&subdirectory=python-client' 'git+https://github.com/webis-de/auto-ir-metadata@dev' 'git+https://github.com/mam10eks/autoqrels.git' 'git+https://github.com/OpenWebSearch/wows-code.git#egg=wows-eval&subdirectory=ecir25/wows-eval' --break-system-packages"
   ]
  },
  {
   "cell_type": "code",
   "execution_count": 2,
   "metadata": {},
   "outputs": [],
   "source": [
    "from wows_eval import evaluate as wows_evaluate\n",
    "\n",
    "from autoqrels.oneshot import DuoPrompt\n",
    "from auto_ir_metadata import Environment\n",
    "import pandas as pd\n",
    "from tira.rest_api_client import Client\n",
    "\n",
    "tira = Client()\n",
    "pd.set_option('display.max_colwidth', None)\n",
    "\n",
    "WOWS_DATASET_ID = 'wows-eval/pairwise-smoke-test-20250210-training'\n"
   ]
  },
  {
   "cell_type": "code",
   "execution_count": 3,
   "metadata": {},
   "outputs": [],
   "source": [
    "BACKBONE_MODEL = \"flan-t5-small\"\n",
    "\n",
    "PROMPT = \"\"\"Determine if passage B is as relevant as passage A\n",
    "for the given query.\n",
    "'Passage A: \"...{{ rel_doc_text | replace(\"\\\\\"\", \"\\'\") }}...\"\n",
    "'Passage B: \"...{{ unk_doc_text | replace(\"\\\\\"\", \"\\'\") }}...\"\n",
    "'Query: \"{{ query_text }}\" '\n",
    "\"Is passage B as relevant as passage A? </s>\"\"\""
   ]
  },
  {
   "cell_type": "code",
   "execution_count": 4,
   "metadata": {},
   "outputs": [],
   "source": [
    "flan_t5_small_assessor = DuoPrompt(\n",
    "    backbone=f'google/{BACKBONE_MODEL}',\n",
    "    prompt=PROMPT,\n",
    "    dataset=None\n",
    ")"
   ]
  },
  {
   "cell_type": "code",
   "execution_count": 5,
   "metadata": {},
   "outputs": [
    {
     "data": {
      "text/html": [
       "<div>\n",
       "<style scoped>\n",
       "    .dataframe tbody tr th:only-of-type {\n",
       "        vertical-align: middle;\n",
       "    }\n",
       "\n",
       "    .dataframe tbody tr th {\n",
       "        vertical-align: top;\n",
       "    }\n",
       "\n",
       "    .dataframe thead th {\n",
       "        text-align: right;\n",
       "    }\n",
       "</style>\n",
       "<table border=\"1\" class=\"dataframe\">\n",
       "  <thead>\n",
       "    <tr style=\"text-align: right;\">\n",
       "      <th></th>\n",
       "      <th>id</th>\n",
       "      <th>query</th>\n",
       "      <th>relevant</th>\n",
       "      <th>unknown</th>\n",
       "    </tr>\n",
       "  </thead>\n",
       "  <tbody>\n",
       "    <tr>\n",
       "      <th>0</th>\n",
       "      <td>3d080873-98a1-4388-af86-fe2c8b47ebca</td>\n",
       "      <td>who sings monk theme song</td>\n",
       "      <td>exists and is an alternate of . The Monk theme song is It's a Jungle Out There by Randy Newman. The Monk theme song is It's a Jungle Out There by Randy Newman.</td>\n",
       "      <td>Randy Newman (album) Randy Newman is the debut recording by Randy Newman, released in 1968. Unlike his later albums which featured Newman and his piano backed by guitar, bass guitar and drums, Randy Newman was highly orchestral and aimed to blend the orchestra with Newman's voice and piano.</td>\n",
       "    </tr>\n",
       "    <tr>\n",
       "      <th>1</th>\n",
       "      <td>468a9e92-467f-47c9-810b-fe6fa9dca634</td>\n",
       "      <td>who sings monk theme song</td>\n",
       "      <td>exists and is an alternate of . The Monk theme song is It's a Jungle Out There by Randy Newman. The Monk theme song is It's a Jungle Out There by Randy Newman.</td>\n",
       "      <td>One of Monk's most important contributions to jazz was his use of space and simplicity in his performances and in his compositions. Monk's unconventional use of harmony and rhythm has had a lasting influence on jazz as well. Finally, Monk's compositions are very well-known, both by performers and by listeners.</td>\n",
       "    </tr>\n",
       "    <tr>\n",
       "      <th>2</th>\n",
       "      <td>846a69d0-0c0e-4d86-baf2-c3e8d31fdc86</td>\n",
       "      <td>who sings monk theme song</td>\n",
       "      <td>exists and is an alternate of . The Monk theme song is It's a Jungle Out There by Randy Newman. The Monk theme song is It's a Jungle Out There by Randy Newman.</td>\n",
       "      <td>Singing elegant, melancholic songs in a glamorously tattered voice, Leonard Cohen emerged from Montreal in the 1960s, an artist well into his thirties before he even made his first album. After a few records, he was royalty, on equal footing with Joni Mitchell, Randy Newman, and other top-notch singer-songwriters.</td>\n",
       "    </tr>\n",
       "  </tbody>\n",
       "</table>\n",
       "</div>"
      ],
      "text/plain": [
       "                                     id                      query  \\\n",
       "0  3d080873-98a1-4388-af86-fe2c8b47ebca  who sings monk theme song   \n",
       "1  468a9e92-467f-47c9-810b-fe6fa9dca634  who sings monk theme song   \n",
       "2  846a69d0-0c0e-4d86-baf2-c3e8d31fdc86  who sings monk theme song   \n",
       "\n",
       "                                                                                                                                                          relevant  \\\n",
       "0  exists and is an alternate of . The Monk theme song is It's a Jungle Out There by Randy Newman. The Monk theme song is It's a Jungle Out There by Randy Newman.   \n",
       "1  exists and is an alternate of . The Monk theme song is It's a Jungle Out There by Randy Newman. The Monk theme song is It's a Jungle Out There by Randy Newman.   \n",
       "2  exists and is an alternate of . The Monk theme song is It's a Jungle Out There by Randy Newman. The Monk theme song is It's a Jungle Out There by Randy Newman.   \n",
       "\n",
       "                                                                                                                                                                                                                                                                                                                       unknown  \n",
       "0                          Randy Newman (album) Randy Newman is the debut recording by Randy Newman, released in 1968. Unlike his later albums which featured Newman and his piano backed by guitar, bass guitar and drums, Randy Newman was highly orchestral and aimed to blend the orchestra with Newman's voice and piano.  \n",
       "1      One of Monk's most important contributions to jazz was his use of space and simplicity in his performances and in his compositions. Monk's unconventional use of harmony and rhythm has had a lasting influence on jazz as well. Finally, Monk's compositions are very well-known, both by performers and by listeners.  \n",
       "2  Singing elegant, melancholic songs in a glamorously tattered voice, Leonard Cohen emerged from Montreal in the 1960s, an artist well into his thirties before he even made his first album. After a few records, he was royalty, on equal footing with Joni Mitchell, Randy Newman, and other top-notch singer-songwriters.  "
      ]
     },
     "execution_count": 5,
     "metadata": {},
     "output_type": "execute_result"
    }
   ],
   "source": [
    "input_data = tira.pd.inputs(WOWS_DATASET_ID)\n",
    "input_data.head(3)"
   ]
  },
  {
   "cell_type": "code",
   "execution_count": 7,
   "metadata": {},
   "outputs": [
    {
     "name": "stderr",
     "output_type": "stream",
     "text": [
      "100%|██████████| 6/6 [00:03<00:00,  1.70it/s]\n"
     ]
    },
    {
     "name": "stdout",
     "output_type": "stream",
     "text": [
      "Run uploaded to TIRA. Claim ownership via: https://www.tira.io/claim-submission/0ba3edaa-bc58-42ac-a592-6d3dd026691e\n",
      "{'tau_ap': -0.3038888888888889, 'kendall': -0.1523809523809524, 'spearman': -0.1785714285714286, 'pearson': -0.1785714285714286}\n"
     ]
    },
    {
     "data": {
      "text/html": [
       "<div>\n",
       "<style scoped>\n",
       "    .dataframe tbody tr th:only-of-type {\n",
       "        vertical-align: middle;\n",
       "    }\n",
       "\n",
       "    .dataframe tbody tr th {\n",
       "        vertical-align: top;\n",
       "    }\n",
       "\n",
       "    .dataframe thead th {\n",
       "        text-align: right;\n",
       "    }\n",
       "</style>\n",
       "<table border=\"1\" class=\"dataframe\">\n",
       "  <thead>\n",
       "    <tr style=\"text-align: right;\">\n",
       "      <th></th>\n",
       "      <th>id</th>\n",
       "      <th>query</th>\n",
       "      <th>relevant</th>\n",
       "      <th>unknown</th>\n",
       "      <th>probability_relevant</th>\n",
       "    </tr>\n",
       "  </thead>\n",
       "  <tbody>\n",
       "    <tr>\n",
       "      <th>0</th>\n",
       "      <td>3d080873-98a1-4388-af86-fe2c8b47ebca</td>\n",
       "      <td>who sings monk theme song</td>\n",
       "      <td>exists and is an alternate of . The Monk theme song is It's a Jungle Out There by Randy Newman. The Monk theme song is It's a Jungle Out There by Randy Newman.</td>\n",
       "      <td>Randy Newman (album) Randy Newman is the debut recording by Randy Newman, released in 1968. Unlike his later albums which featured Newman and his piano backed by guitar, bass guitar and drums, Randy Newman was highly orchestral and aimed to blend the orchestra with Newman's voice and piano.</td>\n",
       "      <td>0.616158</td>\n",
       "    </tr>\n",
       "    <tr>\n",
       "      <th>1</th>\n",
       "      <td>468a9e92-467f-47c9-810b-fe6fa9dca634</td>\n",
       "      <td>who sings monk theme song</td>\n",
       "      <td>exists and is an alternate of . The Monk theme song is It's a Jungle Out There by Randy Newman. The Monk theme song is It's a Jungle Out There by Randy Newman.</td>\n",
       "      <td>One of Monk's most important contributions to jazz was his use of space and simplicity in his performances and in his compositions. Monk's unconventional use of harmony and rhythm has had a lasting influence on jazz as well. Finally, Monk's compositions are very well-known, both by performers and by listeners.</td>\n",
       "      <td>0.713638</td>\n",
       "    </tr>\n",
       "    <tr>\n",
       "      <th>2</th>\n",
       "      <td>846a69d0-0c0e-4d86-baf2-c3e8d31fdc86</td>\n",
       "      <td>who sings monk theme song</td>\n",
       "      <td>exists and is an alternate of . The Monk theme song is It's a Jungle Out There by Randy Newman. The Monk theme song is It's a Jungle Out There by Randy Newman.</td>\n",
       "      <td>Singing elegant, melancholic songs in a glamorously tattered voice, Leonard Cohen emerged from Montreal in the 1960s, an artist well into his thirties before he even made his first album. After a few records, he was royalty, on equal footing with Joni Mitchell, Randy Newman, and other top-notch singer-songwriters.</td>\n",
       "      <td>0.684874</td>\n",
       "    </tr>\n",
       "  </tbody>\n",
       "</table>\n",
       "</div>"
      ],
      "text/plain": [
       "                                     id                      query  \\\n",
       "0  3d080873-98a1-4388-af86-fe2c8b47ebca  who sings monk theme song   \n",
       "1  468a9e92-467f-47c9-810b-fe6fa9dca634  who sings monk theme song   \n",
       "2  846a69d0-0c0e-4d86-baf2-c3e8d31fdc86  who sings monk theme song   \n",
       "\n",
       "                                                                                                                                                          relevant  \\\n",
       "0  exists and is an alternate of . The Monk theme song is It's a Jungle Out There by Randy Newman. The Monk theme song is It's a Jungle Out There by Randy Newman.   \n",
       "1  exists and is an alternate of . The Monk theme song is It's a Jungle Out There by Randy Newman. The Monk theme song is It's a Jungle Out There by Randy Newman.   \n",
       "2  exists and is an alternate of . The Monk theme song is It's a Jungle Out There by Randy Newman. The Monk theme song is It's a Jungle Out There by Randy Newman.   \n",
       "\n",
       "                                                                                                                                                                                                                                                                                                                       unknown  \\\n",
       "0                          Randy Newman (album) Randy Newman is the debut recording by Randy Newman, released in 1968. Unlike his later albums which featured Newman and his piano backed by guitar, bass guitar and drums, Randy Newman was highly orchestral and aimed to blend the orchestra with Newman's voice and piano.   \n",
       "1      One of Monk's most important contributions to jazz was his use of space and simplicity in his performances and in his compositions. Monk's unconventional use of harmony and rhythm has had a lasting influence on jazz as well. Finally, Monk's compositions are very well-known, both by performers and by listeners.   \n",
       "2  Singing elegant, melancholic songs in a glamorously tattered voice, Leonard Cohen emerged from Montreal in the 1960s, an artist well into his thirties before he even made his first album. After a few records, he was royalty, on equal footing with Joni Mitchell, Randy Newman, and other top-notch singer-songwriters.   \n",
       "\n",
       "   probability_relevant  \n",
       "0              0.616158  \n",
       "1              0.713638  \n",
       "2              0.684874  "
      ]
     },
     "execution_count": 7,
     "metadata": {},
     "output_type": "execute_result"
    }
   ],
   "source": [
    "with Environment().measure() as tracked_experiment:\n",
    "    predictions = flan_t5_small_assessor.predict(input_data)\n",
    "\n",
    "print(wows_evaluate(\n",
    "    predictions,\n",
    "    WOWS_DATASET_ID,\n",
    "    upload=True,\n",
    "    system_name=f'auto-qrels-pairwise-{BACKBONE_MODEL}',\n",
    "    system_description=\"We use autoqrels [1] with a custom in-context learning prompt for pairwise relevance judgments.\\n\\n[1] - https://github.com/seanmacavaney/autoqrels\",\n",
    "    environment=tracked_experiment\n",
    "))\n",
    "\n",
    "predictions.head(3)"
   ]
  }
 ],
 "metadata": {
  "kernelspec": {
   "display_name": "Python 3",
   "language": "python",
   "name": "python3"
  },
  "language_info": {
   "codemirror_mode": {
    "name": "ipython",
    "version": 3
   },
   "file_extension": ".py",
   "mimetype": "text/x-python",
   "name": "python",
   "nbconvert_exporter": "python",
   "pygments_lexer": "ipython3",
   "version": "3.12.3"
  }
 },
 "nbformat": 4,
 "nbformat_minor": 2
}
