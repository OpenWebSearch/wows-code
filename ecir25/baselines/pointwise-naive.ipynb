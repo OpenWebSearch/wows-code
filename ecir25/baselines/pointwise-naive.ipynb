{
 "cells": [
  {
   "cell_type": "markdown",
   "metadata": {},
   "source": [
    "# WOWS-Eval Naive Pointwise Baseline\n",
    "\n",
    "This is a naive baseline to WOWS-EVAL that always predicts that a document is relevant to a query with a probability of 50%."
   ]
  },
  {
   "cell_type": "markdown",
   "metadata": {},
   "source": [
    "## Step 1: Install Dependencies\n",
    "\n"
   ]
  },
  {
   "cell_type": "code",
   "execution_count": null,
   "metadata": {},
   "outputs": [],
   "source": [
    "!pip3 install 'wows-eval>=0.0.6'"
   ]
  },
  {
   "cell_type": "markdown",
   "metadata": {},
   "source": [
    "## Step 2: Load the Data\n",
    "\n",
    "Pointwise models have a query and a document as input and output the probability that the document is relevant into a field `probability_relevant`. For this naive baseline, we always predict a probability of 0.5.\n",
    "\n",
    "In the following, we will process the pointwise smoke test dataset. Please modify the variable `DATASET_ID` to submit for other datasets. See [tira.io/datasets?query=wows-eval](https://archive.tira.io/datasets?query=wows-eval) for an complete overview of dataset identifiers.\n"
   ]
  },
  {
   "cell_type": "code",
   "execution_count": 1,
   "metadata": {},
   "outputs": [],
   "source": [
    "from tira.rest_api_client import Client\n",
    "from wows_eval import evaluate as wows_evaluate\n",
    "import pandas as pd\n",
    "\n",
    "# For measuring consumed resources (e.g., GPU, CPU, RAM, etc.)\n",
    "from tirex_tracker import tracking, ExportFormat\n",
    "\n",
    "pd.set_option('display.max_colwidth', None)\n",
    "\n",
    "DATASET_ID = 'wows-eval/pointwise-smoke-test-20250128-training'\n",
    "#DATASET_ID = 'wows-eval/pointwise-20250309-test'\n",
    "\n",
    "tira = Client()\n",
    "input_data = tira.pd.inputs(DATASET_ID)"
   ]
  },
  {
   "cell_type": "markdown",
   "metadata": {},
   "source": [
    "## Step 3: Look at the data"
   ]
  },
  {
   "cell_type": "code",
   "execution_count": 2,
   "metadata": {},
   "outputs": [
    {
     "data": {
      "text/html": [
       "<div>\n",
       "<style scoped>\n",
       "    .dataframe tbody tr th:only-of-type {\n",
       "        vertical-align: middle;\n",
       "    }\n",
       "\n",
       "    .dataframe tbody tr th {\n",
       "        vertical-align: top;\n",
       "    }\n",
       "\n",
       "    .dataframe thead th {\n",
       "        text-align: right;\n",
       "    }\n",
       "</style>\n",
       "<table border=\"1\" class=\"dataframe\">\n",
       "  <thead>\n",
       "    <tr style=\"text-align: right;\">\n",
       "      <th></th>\n",
       "      <th>id</th>\n",
       "      <th>query</th>\n",
       "      <th>unknown</th>\n",
       "    </tr>\n",
       "  </thead>\n",
       "  <tbody>\n",
       "    <tr>\n",
       "      <th>0</th>\n",
       "      <td>32d23068-7440-4891-9958-42325f98a604</td>\n",
       "      <td>who sings monk theme song</td>\n",
       "      <td>This is a reference to the minor controversy that brewed among Monk fans over the introduction of the new theme song It's A Jungle Out There written and performed by Randy Newman in the second season of Monk.</td>\n",
       "    </tr>\n",
       "    <tr>\n",
       "      <th>1</th>\n",
       "      <td>cde83146-ac3e-4bc5-a959-f2006ac7b8de</td>\n",
       "      <td>who sings monk theme song</td>\n",
       "      <td>Walker, Texas Ranger. Chuck Norris thought “Eyes of a Ranger” would be the perfect theme song for his new show Walker, Texas Ranger. He wanted his friend Randy Travis should sing it, but CBS had a different idea: The network suggested Norris sing the theme himself.</td>\n",
       "    </tr>\n",
       "  </tbody>\n",
       "</table>\n",
       "</div>"
      ],
      "text/plain": [
       "                                     id                      query  \\\n",
       "0  32d23068-7440-4891-9958-42325f98a604  who sings monk theme song   \n",
       "1  cde83146-ac3e-4bc5-a959-f2006ac7b8de  who sings monk theme song   \n",
       "\n",
       "                                                                                                                                                                                                                                                                     unknown  \n",
       "0                                                           This is a reference to the minor controversy that brewed among Monk fans over the introduction of the new theme song It's A Jungle Out There written and performed by Randy Newman in the second season of Monk.  \n",
       "1  Walker, Texas Ranger. Chuck Norris thought “Eyes of a Ranger” would be the perfect theme song for his new show Walker, Texas Ranger. He wanted his friend Randy Travis should sing it, but CBS had a different idea: The network suggested Norris sing the theme himself.  "
      ]
     },
     "execution_count": 2,
     "metadata": {},
     "output_type": "execute_result"
    }
   ],
   "source": [
    "input_data.head(2)"
   ]
  },
  {
   "cell_type": "markdown",
   "metadata": {},
   "source": [
    "## Step 4: Implement the Naive Baseline\n",
    "\n",
    "Here, we just fill the expected field `probability_relevant` with 0.5. We wrap all computations into a tira_measure.Environment to measure the resources consumed for our computations to later include the used resources into the ir-metadata of our run."
   ]
  },
  {
   "cell_type": "code",
   "execution_count": 3,
   "metadata": {},
   "outputs": [
    {
     "name": "stderr",
     "output_type": "stream",
     "text": [
      "PCM Info: setrlimit for file limit 1000000 failed with error Operation not permitted\n",
      "\n",
      "=====  Processor information  =====\n",
      "Linux arch_perfmon flag  : yes\n",
      "Hybrid processor         : yes\n",
      "IBRS and IBPB supported  : yes\n",
      "STIBP supported          : yes\n",
      "Spec arch caps supported : yes\n",
      "Max CPUID level          : 32\n",
      "CPU model number         : 154\n",
      "ERROR: Can not open /sys/module/msr/parameters/allow_writes file.\n",
      "PCM Error: can't open MSR handle for core 0 (No such file or directory)\n",
      "Try no-MSR mode by setting env variable PCM_NO_MSR=1\n",
      "Can not access CPUs Model Specific Registers (MSRs).\n",
      "execute 'modprobe msr' as root user, then execute pcm as root user.\n"
     ]
    }
   ],
   "source": [
    "!rm -Rf runs\n",
    "with tracking(export_format = ExportFormat.IR_METADATA, export_file_path=\"runs/ir_metadata.yml\") as tracked:\n",
    "    # now we do the \"computation\"\n",
    "    predictions = input_data.copy()\n",
    "    predictions['probability_relevant'] = 0.5"
   ]
  },
  {
   "cell_type": "markdown",
   "metadata": {},
   "source": [
    "## Step 5: Evaluate and Submit Your Run\n",
    "\n",
    "We use the `wows_evaluate` method imported above to evaluate our predictions and to upload them, to TIRA.\n",
    "\n",
    "The `wows_evaluate` method has optional parameters that you can pass to describe your system and to include the resource measurements used during your computations in the ir-metadata format into your submission. You can remove those attributes or modify them for your submission accordingly. Call `help(wows_evaluate)` to see a full description."
   ]
  },
  {
   "cell_type": "code",
   "execution_count": 4,
   "metadata": {},
   "outputs": [
    {
     "name": "stdout",
     "output_type": "stream",
     "text": [
      "Run uploaded to TIRA. Claim ownership via: https://www.tira.io/claim-submission/bada828b-355d-4f16-81c3-de32c4b7eb81\n"
     ]
    },
    {
     "data": {
      "text/html": [
       "<div>\n",
       "<style scoped>\n",
       "    .dataframe tbody tr th:only-of-type {\n",
       "        vertical-align: middle;\n",
       "    }\n",
       "\n",
       "    .dataframe tbody tr th {\n",
       "        vertical-align: top;\n",
       "    }\n",
       "\n",
       "    .dataframe thead th {\n",
       "        text-align: right;\n",
       "    }\n",
       "</style>\n",
       "<table border=\"1\" class=\"dataframe\">\n",
       "  <thead>\n",
       "    <tr style=\"text-align: right;\">\n",
       "      <th></th>\n",
       "      <th>system</th>\n",
       "      <th>tau_ap</th>\n",
       "      <th>kendall</th>\n",
       "      <th>spearman</th>\n",
       "      <th>pearson</th>\n",
       "    </tr>\n",
       "  </thead>\n",
       "  <tbody>\n",
       "    <tr>\n",
       "      <th>0</th>\n",
       "      <td>naive-pointwise</td>\n",
       "      <td>0.34</td>\n",
       "      <td>0.361905</td>\n",
       "      <td>0.45</td>\n",
       "      <td>0.45</td>\n",
       "    </tr>\n",
       "  </tbody>\n",
       "</table>\n",
       "</div>"
      ],
      "text/plain": [
       "            system  tau_ap   kendall  spearman  pearson\n",
       "0  naive-pointwise    0.34  0.361905      0.45     0.45"
      ]
     },
     "execution_count": 4,
     "metadata": {},
     "output_type": "execute_result"
    }
   ],
   "source": [
    "wows_evaluate(\n",
    "    predictions,\n",
    "    DATASET_ID,\n",
    "    tracking_results=tracked,\n",
    "    upload=True,\n",
    "    system_name='naive-pointwise',\n",
    "    system_description='A naive approach that predicts that each document is relevant with a probabilty of 50%.'\n",
    ")"
   ]
  },
  {
   "cell_type": "markdown",
   "metadata": {},
   "source": [
    "## Step 6: Register to TIRA and to the WOWS-EVAL task\n",
    "\n",
    "To finalize your submission to WOWS-EVAL, you must now claim your submission via the URL printed above. For this, please register at [tira.io](https://www.tira.io) and navigate to the [WOWS-EVAL](https://www.tira.io/task-overview/wows-eval/) task and click on \"Register\". You can choose your team name from a list of [fictional](https://en.wikipedia.org/wiki/Category:Fictional_librarians) and [real](https://en.wikipedia.org/wiki/List_of_librarians) librarians ([please drop a message](#contact) if your favourite team name is not in the list).\n",
    "\n",
    "For instance, after clicking on the ownership link above, you can claim ownership via a form in TIRA (where you can potentially overwrite the name and description of your system):\n",
    "\n",
    "\n",
    "![example of claim ownership form](../figures/claim-run-in-tira.png)"
   ]
  }
 ],
 "metadata": {
  "kernelspec": {
   "display_name": "Python 3",
   "language": "python",
   "name": "python3"
  },
  "language_info": {
   "codemirror_mode": {
    "name": "ipython",
    "version": 3
   },
   "file_extension": ".py",
   "mimetype": "text/x-python",
   "name": "python",
   "nbconvert_exporter": "python",
   "pygments_lexer": "ipython3",
   "version": "3.10.12"
  }
 },
 "nbformat": 4,
 "nbformat_minor": 2
}
